{
  "nbformat": 4,
  "nbformat_minor": 0,
  "metadata": {
    "colab": {
      "provenance": [],
      "mount_file_id": "1bvr0_p56ax7JpLSHEZxPHspjl8N853d5",
      "authorship_tag": "ABX9TyP85aGAaWwofL8KTtr5puPb",
      "include_colab_link": true
    },
    "kernelspec": {
      "name": "python3",
      "display_name": "Python 3"
    },
    "language_info": {
      "name": "python"
    }
  },
  "cells": [
    {
      "cell_type": "markdown",
      "metadata": {
        "id": "view-in-github",
        "colab_type": "text"
      },
      "source": [
        "<a href=\"https://colab.research.google.com/github/yohei-kobayashi-SK/predict-ADL/blob/main/predict_ADL_Stroke.ipynb\" target=\"_parent\"><img src=\"https://colab.research.google.com/assets/colab-badge.svg\" alt=\"Open In Colab\"/></a>"
      ]
    },
    {
      "cell_type": "code",
      "execution_count": 7,
      "metadata": {
        "id": "fYLljC7x06a_"
      },
      "outputs": [],
      "source": [
        "import pandas as pd\n",
        "import numpy as np"
      ]
    },
    {
      "cell_type": "code",
      "source": [
        "import matplotlib.pyplot as plt\n",
        "import matplotlib.gridspec as gridspec\n",
        "import seaborn as sns\n",
        "%matplotlib inline"
      ],
      "metadata": {
        "id": "iOI2KZrH1apU"
      },
      "execution_count": 8,
      "outputs": []
    },
    {
      "cell_type": "code",
      "source": [
        "from sklearn import datasets\n",
        "from sklearn.model_selection import train_test_split\n",
        "from sklearn.metrics import confusion_matrix\n",
        "from sklearn.metrics import accuracy_score\n",
        "\n",
        "import xgboost as xgb\n",
        "from xgboost import XGBClassifier"
      ],
      "metadata": {
        "id": "c-zsT8YO1qK8"
      },
      "execution_count": 9,
      "outputs": []
    },
    {
      "cell_type": "code",
      "source": [
        "from sklearn.model_selection import GridSearchCV"
      ],
      "metadata": {
        "id": "cA585mx64P01"
      },
      "execution_count": 10,
      "outputs": []
    },
    {
      "cell_type": "code",
      "source": [
        "import warnings\n",
        "warnings.simplefilter('ignore',DeprecationWarning)"
      ],
      "metadata": {
        "id": "5qOxEB822T_Y"
      },
      "execution_count": 11,
      "outputs": []
    },
    {
      "cell_type": "code",
      "source": [
        "# **.csv 学習データ、テストデータを読み取り\n",
        "dataset = pd.read_csv(\"ADLpred5_train.csv\")\n",
        "dataset2 = pd.read_csv(\"ADLpred5_test.csv\")"
      ],
      "metadata": {
        "id": "vb4rg8NI2k4i"
      },
      "execution_count": 12,
      "outputs": []
    },
    {
      "cell_type": "code",
      "source": [
        "dataset"
      ],
      "metadata": {
        "colab": {
          "base_uri": "https://localhost:8080/",
          "height": 522
        },
        "id": "VfcEj4xZ4z2W",
        "outputId": "66c79b37-e8f1-4a8c-c548-70e10ea6ddf7"
      },
      "execution_count": 13,
      "outputs": [
        {
          "output_type": "execute_result",
          "data": {
            "text/plain": [
              "     year  sex1:male,0:female  before mRS  damage side:right1 left0  \\\n",
              "0      50                   1           0                         1   \n",
              "1      74                   1           0                         1   \n",
              "2      64                   0           0                         0   \n",
              "3      78                   0           0                         0   \n",
              "4      79                   1           0                         0   \n",
              "..    ...                 ...         ...                       ...   \n",
              "192    79                   0           0                         0   \n",
              "193    76                   0           1                         1   \n",
              "194    62                   1           0                         1   \n",
              "195    83                   0           0                         0   \n",
              "196    51                   1           0                         1   \n",
              "\n",
              "     disease_infarction_hemorrhage   Period_of_ impaired consciousness  ALB  \\\n",
              "0                                 0                                  1  4.0   \n",
              "1                                 1                                  3  3.6   \n",
              "2                                 1                                  0  4.2   \n",
              "3                                 1                                  2  3.7   \n",
              "4                                 1                                  0  3.5   \n",
              "..                              ...                                ...  ...   \n",
              "192                               0                                  5  3.9   \n",
              "193                               0                                  2  4.0   \n",
              "194                               0                                  1  4.1   \n",
              "195                               0                                  1  3.7   \n",
              "196                               0                                  2  3.4   \n",
              "\n",
              "     medical_history(stroke)  complications  start_date_of_mobilization  ...  \\\n",
              "0                          0              0                           2  ...   \n",
              "1                          0              0                           3  ...   \n",
              "2                          0              0                           4  ...   \n",
              "3                          0              0                           2  ...   \n",
              "4                          0              0                           2  ...   \n",
              "..                       ...            ...                         ...  ...   \n",
              "192                        0              0                           6  ...   \n",
              "193                        0              0                           4  ...   \n",
              "194                        0              0                           6  ...   \n",
              "195                        0              0                          10  ...   \n",
              "196                        0              0                           2  ...   \n",
              "\n",
              "     eat  trance  glooming  toilet  both  stairs  cloth  defecation  \\\n",
              "0     10      10         0       5     0       0     10          10   \n",
              "1      0       0         0       0     0       0      0           0   \n",
              "2     10      10         0       5     0       0      5           0   \n",
              "3      0      10         0       5     0       0      0           0   \n",
              "4      0       5         0       0     0       0      0           5   \n",
              "..   ...     ...       ...     ...   ...     ...    ...         ...   \n",
              "192   10       5         0       5     0       5      5           0   \n",
              "193    0       0         0       0     0       0      0           0   \n",
              "194   10      10         5       5     0       5      5           5   \n",
              "195   10      10         5       5     0       0      5          10   \n",
              "196   10      10         5       5     0       5      5           5   \n",
              "\n",
              "     urination  target  \n",
              "0           10       1  \n",
              "1            0       0  \n",
              "2            0       1  \n",
              "3            0       1  \n",
              "4            5       0  \n",
              "..         ...     ...  \n",
              "192          5       1  \n",
              "193          0       1  \n",
              "194          5       1  \n",
              "195         10       1  \n",
              "196          5       1  \n",
              "\n",
              "[197 rows x 48 columns]"
            ],
            "text/html": [
              "\n",
              "  <div id=\"df-f6894b36-9abe-4242-8274-fc31b7793d3c\">\n",
              "    <div class=\"colab-df-container\">\n",
              "      <div>\n",
              "<style scoped>\n",
              "    .dataframe tbody tr th:only-of-type {\n",
              "        vertical-align: middle;\n",
              "    }\n",
              "\n",
              "    .dataframe tbody tr th {\n",
              "        vertical-align: top;\n",
              "    }\n",
              "\n",
              "    .dataframe thead th {\n",
              "        text-align: right;\n",
              "    }\n",
              "</style>\n",
              "<table border=\"1\" class=\"dataframe\">\n",
              "  <thead>\n",
              "    <tr style=\"text-align: right;\">\n",
              "      <th></th>\n",
              "      <th>year</th>\n",
              "      <th>sex1:male,0:female</th>\n",
              "      <th>before mRS</th>\n",
              "      <th>damage side:right1 left0</th>\n",
              "      <th>disease_infarction_hemorrhage</th>\n",
              "      <th>Period_of_ impaired consciousness</th>\n",
              "      <th>ALB</th>\n",
              "      <th>medical_history(stroke)</th>\n",
              "      <th>complications</th>\n",
              "      <th>start_date_of_mobilization</th>\n",
              "      <th>...</th>\n",
              "      <th>eat</th>\n",
              "      <th>trance</th>\n",
              "      <th>glooming</th>\n",
              "      <th>toilet</th>\n",
              "      <th>both</th>\n",
              "      <th>stairs</th>\n",
              "      <th>cloth</th>\n",
              "      <th>defecation</th>\n",
              "      <th>urination</th>\n",
              "      <th>target</th>\n",
              "    </tr>\n",
              "  </thead>\n",
              "  <tbody>\n",
              "    <tr>\n",
              "      <th>0</th>\n",
              "      <td>50</td>\n",
              "      <td>1</td>\n",
              "      <td>0</td>\n",
              "      <td>1</td>\n",
              "      <td>0</td>\n",
              "      <td>1</td>\n",
              "      <td>4.0</td>\n",
              "      <td>0</td>\n",
              "      <td>0</td>\n",
              "      <td>2</td>\n",
              "      <td>...</td>\n",
              "      <td>10</td>\n",
              "      <td>10</td>\n",
              "      <td>0</td>\n",
              "      <td>5</td>\n",
              "      <td>0</td>\n",
              "      <td>0</td>\n",
              "      <td>10</td>\n",
              "      <td>10</td>\n",
              "      <td>10</td>\n",
              "      <td>1</td>\n",
              "    </tr>\n",
              "    <tr>\n",
              "      <th>1</th>\n",
              "      <td>74</td>\n",
              "      <td>1</td>\n",
              "      <td>0</td>\n",
              "      <td>1</td>\n",
              "      <td>1</td>\n",
              "      <td>3</td>\n",
              "      <td>3.6</td>\n",
              "      <td>0</td>\n",
              "      <td>0</td>\n",
              "      <td>3</td>\n",
              "      <td>...</td>\n",
              "      <td>0</td>\n",
              "      <td>0</td>\n",
              "      <td>0</td>\n",
              "      <td>0</td>\n",
              "      <td>0</td>\n",
              "      <td>0</td>\n",
              "      <td>0</td>\n",
              "      <td>0</td>\n",
              "      <td>0</td>\n",
              "      <td>0</td>\n",
              "    </tr>\n",
              "    <tr>\n",
              "      <th>2</th>\n",
              "      <td>64</td>\n",
              "      <td>0</td>\n",
              "      <td>0</td>\n",
              "      <td>0</td>\n",
              "      <td>1</td>\n",
              "      <td>0</td>\n",
              "      <td>4.2</td>\n",
              "      <td>0</td>\n",
              "      <td>0</td>\n",
              "      <td>4</td>\n",
              "      <td>...</td>\n",
              "      <td>10</td>\n",
              "      <td>10</td>\n",
              "      <td>0</td>\n",
              "      <td>5</td>\n",
              "      <td>0</td>\n",
              "      <td>0</td>\n",
              "      <td>5</td>\n",
              "      <td>0</td>\n",
              "      <td>0</td>\n",
              "      <td>1</td>\n",
              "    </tr>\n",
              "    <tr>\n",
              "      <th>3</th>\n",
              "      <td>78</td>\n",
              "      <td>0</td>\n",
              "      <td>0</td>\n",
              "      <td>0</td>\n",
              "      <td>1</td>\n",
              "      <td>2</td>\n",
              "      <td>3.7</td>\n",
              "      <td>0</td>\n",
              "      <td>0</td>\n",
              "      <td>2</td>\n",
              "      <td>...</td>\n",
              "      <td>0</td>\n",
              "      <td>10</td>\n",
              "      <td>0</td>\n",
              "      <td>5</td>\n",
              "      <td>0</td>\n",
              "      <td>0</td>\n",
              "      <td>0</td>\n",
              "      <td>0</td>\n",
              "      <td>0</td>\n",
              "      <td>1</td>\n",
              "    </tr>\n",
              "    <tr>\n",
              "      <th>4</th>\n",
              "      <td>79</td>\n",
              "      <td>1</td>\n",
              "      <td>0</td>\n",
              "      <td>0</td>\n",
              "      <td>1</td>\n",
              "      <td>0</td>\n",
              "      <td>3.5</td>\n",
              "      <td>0</td>\n",
              "      <td>0</td>\n",
              "      <td>2</td>\n",
              "      <td>...</td>\n",
              "      <td>0</td>\n",
              "      <td>5</td>\n",
              "      <td>0</td>\n",
              "      <td>0</td>\n",
              "      <td>0</td>\n",
              "      <td>0</td>\n",
              "      <td>0</td>\n",
              "      <td>5</td>\n",
              "      <td>5</td>\n",
              "      <td>0</td>\n",
              "    </tr>\n",
              "    <tr>\n",
              "      <th>...</th>\n",
              "      <td>...</td>\n",
              "      <td>...</td>\n",
              "      <td>...</td>\n",
              "      <td>...</td>\n",
              "      <td>...</td>\n",
              "      <td>...</td>\n",
              "      <td>...</td>\n",
              "      <td>...</td>\n",
              "      <td>...</td>\n",
              "      <td>...</td>\n",
              "      <td>...</td>\n",
              "      <td>...</td>\n",
              "      <td>...</td>\n",
              "      <td>...</td>\n",
              "      <td>...</td>\n",
              "      <td>...</td>\n",
              "      <td>...</td>\n",
              "      <td>...</td>\n",
              "      <td>...</td>\n",
              "      <td>...</td>\n",
              "      <td>...</td>\n",
              "    </tr>\n",
              "    <tr>\n",
              "      <th>192</th>\n",
              "      <td>79</td>\n",
              "      <td>0</td>\n",
              "      <td>0</td>\n",
              "      <td>0</td>\n",
              "      <td>0</td>\n",
              "      <td>5</td>\n",
              "      <td>3.9</td>\n",
              "      <td>0</td>\n",
              "      <td>0</td>\n",
              "      <td>6</td>\n",
              "      <td>...</td>\n",
              "      <td>10</td>\n",
              "      <td>5</td>\n",
              "      <td>0</td>\n",
              "      <td>5</td>\n",
              "      <td>0</td>\n",
              "      <td>5</td>\n",
              "      <td>5</td>\n",
              "      <td>0</td>\n",
              "      <td>5</td>\n",
              "      <td>1</td>\n",
              "    </tr>\n",
              "    <tr>\n",
              "      <th>193</th>\n",
              "      <td>76</td>\n",
              "      <td>0</td>\n",
              "      <td>1</td>\n",
              "      <td>1</td>\n",
              "      <td>0</td>\n",
              "      <td>2</td>\n",
              "      <td>4.0</td>\n",
              "      <td>0</td>\n",
              "      <td>0</td>\n",
              "      <td>4</td>\n",
              "      <td>...</td>\n",
              "      <td>0</td>\n",
              "      <td>0</td>\n",
              "      <td>0</td>\n",
              "      <td>0</td>\n",
              "      <td>0</td>\n",
              "      <td>0</td>\n",
              "      <td>0</td>\n",
              "      <td>0</td>\n",
              "      <td>0</td>\n",
              "      <td>1</td>\n",
              "    </tr>\n",
              "    <tr>\n",
              "      <th>194</th>\n",
              "      <td>62</td>\n",
              "      <td>1</td>\n",
              "      <td>0</td>\n",
              "      <td>1</td>\n",
              "      <td>0</td>\n",
              "      <td>1</td>\n",
              "      <td>4.1</td>\n",
              "      <td>0</td>\n",
              "      <td>0</td>\n",
              "      <td>6</td>\n",
              "      <td>...</td>\n",
              "      <td>10</td>\n",
              "      <td>10</td>\n",
              "      <td>5</td>\n",
              "      <td>5</td>\n",
              "      <td>0</td>\n",
              "      <td>5</td>\n",
              "      <td>5</td>\n",
              "      <td>5</td>\n",
              "      <td>5</td>\n",
              "      <td>1</td>\n",
              "    </tr>\n",
              "    <tr>\n",
              "      <th>195</th>\n",
              "      <td>83</td>\n",
              "      <td>0</td>\n",
              "      <td>0</td>\n",
              "      <td>0</td>\n",
              "      <td>0</td>\n",
              "      <td>1</td>\n",
              "      <td>3.7</td>\n",
              "      <td>0</td>\n",
              "      <td>0</td>\n",
              "      <td>10</td>\n",
              "      <td>...</td>\n",
              "      <td>10</td>\n",
              "      <td>10</td>\n",
              "      <td>5</td>\n",
              "      <td>5</td>\n",
              "      <td>0</td>\n",
              "      <td>0</td>\n",
              "      <td>5</td>\n",
              "      <td>10</td>\n",
              "      <td>10</td>\n",
              "      <td>1</td>\n",
              "    </tr>\n",
              "    <tr>\n",
              "      <th>196</th>\n",
              "      <td>51</td>\n",
              "      <td>1</td>\n",
              "      <td>0</td>\n",
              "      <td>1</td>\n",
              "      <td>0</td>\n",
              "      <td>2</td>\n",
              "      <td>3.4</td>\n",
              "      <td>0</td>\n",
              "      <td>0</td>\n",
              "      <td>2</td>\n",
              "      <td>...</td>\n",
              "      <td>10</td>\n",
              "      <td>10</td>\n",
              "      <td>5</td>\n",
              "      <td>5</td>\n",
              "      <td>0</td>\n",
              "      <td>5</td>\n",
              "      <td>5</td>\n",
              "      <td>5</td>\n",
              "      <td>5</td>\n",
              "      <td>1</td>\n",
              "    </tr>\n",
              "  </tbody>\n",
              "</table>\n",
              "<p>197 rows × 48 columns</p>\n",
              "</div>\n",
              "      <button class=\"colab-df-convert\" onclick=\"convertToInteractive('df-f6894b36-9abe-4242-8274-fc31b7793d3c')\"\n",
              "              title=\"Convert this dataframe to an interactive table.\"\n",
              "              style=\"display:none;\">\n",
              "        \n",
              "  <svg xmlns=\"http://www.w3.org/2000/svg\" height=\"24px\"viewBox=\"0 0 24 24\"\n",
              "       width=\"24px\">\n",
              "    <path d=\"M0 0h24v24H0V0z\" fill=\"none\"/>\n",
              "    <path d=\"M18.56 5.44l.94 2.06.94-2.06 2.06-.94-2.06-.94-.94-2.06-.94 2.06-2.06.94zm-11 1L8.5 8.5l.94-2.06 2.06-.94-2.06-.94L8.5 2.5l-.94 2.06-2.06.94zm10 10l.94 2.06.94-2.06 2.06-.94-2.06-.94-.94-2.06-.94 2.06-2.06.94z\"/><path d=\"M17.41 7.96l-1.37-1.37c-.4-.4-.92-.59-1.43-.59-.52 0-1.04.2-1.43.59L10.3 9.45l-7.72 7.72c-.78.78-.78 2.05 0 2.83L4 21.41c.39.39.9.59 1.41.59.51 0 1.02-.2 1.41-.59l7.78-7.78 2.81-2.81c.8-.78.8-2.07 0-2.86zM5.41 20L4 18.59l7.72-7.72 1.47 1.35L5.41 20z\"/>\n",
              "  </svg>\n",
              "      </button>\n",
              "      \n",
              "  <style>\n",
              "    .colab-df-container {\n",
              "      display:flex;\n",
              "      flex-wrap:wrap;\n",
              "      gap: 12px;\n",
              "    }\n",
              "\n",
              "    .colab-df-convert {\n",
              "      background-color: #E8F0FE;\n",
              "      border: none;\n",
              "      border-radius: 50%;\n",
              "      cursor: pointer;\n",
              "      display: none;\n",
              "      fill: #1967D2;\n",
              "      height: 32px;\n",
              "      padding: 0 0 0 0;\n",
              "      width: 32px;\n",
              "    }\n",
              "\n",
              "    .colab-df-convert:hover {\n",
              "      background-color: #E2EBFA;\n",
              "      box-shadow: 0px 1px 2px rgba(60, 64, 67, 0.3), 0px 1px 3px 1px rgba(60, 64, 67, 0.15);\n",
              "      fill: #174EA6;\n",
              "    }\n",
              "\n",
              "    [theme=dark] .colab-df-convert {\n",
              "      background-color: #3B4455;\n",
              "      fill: #D2E3FC;\n",
              "    }\n",
              "\n",
              "    [theme=dark] .colab-df-convert:hover {\n",
              "      background-color: #434B5C;\n",
              "      box-shadow: 0px 1px 3px 1px rgba(0, 0, 0, 0.15);\n",
              "      filter: drop-shadow(0px 1px 2px rgba(0, 0, 0, 0.3));\n",
              "      fill: #FFFFFF;\n",
              "    }\n",
              "  </style>\n",
              "\n",
              "      <script>\n",
              "        const buttonEl =\n",
              "          document.querySelector('#df-f6894b36-9abe-4242-8274-fc31b7793d3c button.colab-df-convert');\n",
              "        buttonEl.style.display =\n",
              "          google.colab.kernel.accessAllowed ? 'block' : 'none';\n",
              "\n",
              "        async function convertToInteractive(key) {\n",
              "          const element = document.querySelector('#df-f6894b36-9abe-4242-8274-fc31b7793d3c');\n",
              "          const dataTable =\n",
              "            await google.colab.kernel.invokeFunction('convertToInteractive',\n",
              "                                                     [key], {});\n",
              "          if (!dataTable) return;\n",
              "\n",
              "          const docLinkHtml = 'Like what you see? Visit the ' +\n",
              "            '<a target=\"_blank\" href=https://colab.research.google.com/notebooks/data_table.ipynb>data table notebook</a>'\n",
              "            + ' to learn more about interactive tables.';\n",
              "          element.innerHTML = '';\n",
              "          dataTable['output_type'] = 'display_data';\n",
              "          await google.colab.output.renderOutput(dataTable, element);\n",
              "          const docLink = document.createElement('div');\n",
              "          docLink.innerHTML = docLinkHtml;\n",
              "          element.appendChild(docLink);\n",
              "        }\n",
              "      </script>\n",
              "    </div>\n",
              "  </div>\n",
              "  "
            ]
          },
          "metadata": {},
          "execution_count": 13
        }
      ]
    },
    {
      "cell_type": "code",
      "source": [
        "type(dataset)"
      ],
      "metadata": {
        "colab": {
          "base_uri": "https://localhost:8080/"
        },
        "id": "tC2A6asif28B",
        "outputId": "60b9ae34-0e35-4853-9402-e31c8c2ef883"
      },
      "execution_count": 14,
      "outputs": [
        {
          "output_type": "execute_result",
          "data": {
            "text/plain": [
              "pandas.core.frame.DataFrame"
            ]
          },
          "metadata": {},
          "execution_count": 14
        }
      ]
    },
    {
      "cell_type": "code",
      "source": [
        "print(dataset.columns)"
      ],
      "metadata": {
        "colab": {
          "base_uri": "https://localhost:8080/"
        },
        "id": "9wjcD-bOPLxm",
        "outputId": "af39802e-c6c7-40b1-ed2e-64829068a874"
      },
      "execution_count": 15,
      "outputs": [
        {
          "output_type": "stream",
          "name": "stdout",
          "text": [
            "Index(['year', 'sex1:male,0:female', 'before mRS', 'damage side:right1 left0',\n",
            "       'disease_infarction_hemorrhage ', 'Period_of_ impaired consciousness',\n",
            "       'ALB', 'medical_history(stroke)', 'complications',\n",
            "       'start_date_of_mobilization', 'con level', 'con_question',\n",
            "       'con_obedience', 'gaze', 'field_of_view', 'facial_paralysis',\n",
            "       'no_para_upper', 'no_para_low', 'ataxia', 'sensory', 'language',\n",
            "       'articulation', 'neglect', 'BRSupper', 'BRSfinger', 'BRS_low',\n",
            "       'ABMS2_turn_over', 'ABMSget_up', 'ABMSsit', 'ABMSrise_up',\n",
            "       'ABMS2_standing', 'sit_posture', 'sit_extension', 'sit_resistance',\n",
            "       'stand_posture', 'stand_extension', 'stand_resistance', 'FAC', 'eat',\n",
            "       'trance', 'glooming', 'toilet', 'both', 'stairs', 'cloth', 'defecation',\n",
            "       'urination', 'target'],\n",
            "      dtype='object')\n"
          ]
        }
      ]
    },
    {
      "cell_type": "code",
      "source": [
        "dataset.describe()"
      ],
      "metadata": {
        "colab": {
          "base_uri": "https://localhost:8080/",
          "height": 428
        },
        "id": "b0dLqb_hIZdk",
        "outputId": "ede495e1-1dbc-4de8-8cd9-9fd636508239"
      },
      "execution_count": 16,
      "outputs": [
        {
          "output_type": "execute_result",
          "data": {
            "text/plain": [
              "             year  sex1:male,0:female  before mRS  damage side:right1 left0  \\\n",
              "count  197.000000          197.000000  197.000000                197.000000   \n",
              "mean    69.644670            0.675127    0.335025                  0.532995   \n",
              "std     12.576932            0.469521    0.669634                  0.500181   \n",
              "min     33.000000            0.000000    0.000000                  0.000000   \n",
              "25%     62.000000            0.000000    0.000000                  0.000000   \n",
              "50%     72.000000            1.000000    0.000000                  1.000000   \n",
              "75%     79.000000            1.000000    0.000000                  1.000000   \n",
              "max     99.000000            1.000000    2.000000                  1.000000   \n",
              "\n",
              "       disease_infarction_hemorrhage   Period_of_ impaired consciousness  \\\n",
              "count                      197.000000                         197.000000   \n",
              "mean                         0.614213                           1.406091   \n",
              "std                          0.488021                           2.897494   \n",
              "min                          0.000000                           0.000000   \n",
              "25%                          0.000000                           0.000000   \n",
              "50%                          1.000000                           1.000000   \n",
              "75%                          1.000000                           1.000000   \n",
              "max                          1.000000                          27.000000   \n",
              "\n",
              "              ALB  medical_history(stroke)  complications  \\\n",
              "count  197.000000               197.000000     197.000000   \n",
              "mean     4.105584                 0.203046       0.101523   \n",
              "std      0.544377                 0.403291       0.302789   \n",
              "min      2.300000                 0.000000       0.000000   \n",
              "25%      3.800000                 0.000000       0.000000   \n",
              "50%      4.100000                 0.000000       0.000000   \n",
              "75%      4.400000                 0.000000       0.000000   \n",
              "max      7.500000                 1.000000       1.000000   \n",
              "\n",
              "       start_date_of_mobilization  ...         eat      trance    glooming  \\\n",
              "count                  197.000000  ...  197.000000  197.000000  197.000000   \n",
              "mean                     3.588832  ...    5.736041    7.030457    1.548223   \n",
              "std                      2.327405  ...    4.296578    4.811666    2.317625   \n",
              "min                      1.000000  ...    0.000000    0.000000    0.000000   \n",
              "25%                      2.000000  ...    0.000000    5.000000    0.000000   \n",
              "50%                      3.000000  ...    5.000000   10.000000    0.000000   \n",
              "75%                      4.000000  ...   10.000000   10.000000    5.000000   \n",
              "max                     20.000000  ...   10.000000   15.000000    5.000000   \n",
              "\n",
              "           toilet        both      stairs       cloth  defecation   urination  \\\n",
              "count  197.000000  197.000000  197.000000  197.000000  197.000000  197.000000   \n",
              "mean     4.137056    0.101523    0.583756    3.502538    5.329949    5.228426   \n",
              "std      3.679299    0.706997    1.900414    3.523427    4.547680    4.553940   \n",
              "min      0.000000    0.000000    0.000000    0.000000    0.000000    0.000000   \n",
              "25%      0.000000    0.000000    0.000000    0.000000    0.000000    0.000000   \n",
              "50%      5.000000    0.000000    0.000000    5.000000    5.000000    5.000000   \n",
              "75%      5.000000    0.000000    0.000000    5.000000   10.000000   10.000000   \n",
              "max     10.000000    5.000000   10.000000   10.000000   10.000000   10.000000   \n",
              "\n",
              "           target  \n",
              "count  197.000000  \n",
              "mean     0.654822  \n",
              "std      0.476637  \n",
              "min      0.000000  \n",
              "25%      0.000000  \n",
              "50%      1.000000  \n",
              "75%      1.000000  \n",
              "max      1.000000  \n",
              "\n",
              "[8 rows x 48 columns]"
            ],
            "text/html": [
              "\n",
              "  <div id=\"df-dad33b90-b93f-4775-9f6e-30030e971f29\">\n",
              "    <div class=\"colab-df-container\">\n",
              "      <div>\n",
              "<style scoped>\n",
              "    .dataframe tbody tr th:only-of-type {\n",
              "        vertical-align: middle;\n",
              "    }\n",
              "\n",
              "    .dataframe tbody tr th {\n",
              "        vertical-align: top;\n",
              "    }\n",
              "\n",
              "    .dataframe thead th {\n",
              "        text-align: right;\n",
              "    }\n",
              "</style>\n",
              "<table border=\"1\" class=\"dataframe\">\n",
              "  <thead>\n",
              "    <tr style=\"text-align: right;\">\n",
              "      <th></th>\n",
              "      <th>year</th>\n",
              "      <th>sex1:male,0:female</th>\n",
              "      <th>before mRS</th>\n",
              "      <th>damage side:right1 left0</th>\n",
              "      <th>disease_infarction_hemorrhage</th>\n",
              "      <th>Period_of_ impaired consciousness</th>\n",
              "      <th>ALB</th>\n",
              "      <th>medical_history(stroke)</th>\n",
              "      <th>complications</th>\n",
              "      <th>start_date_of_mobilization</th>\n",
              "      <th>...</th>\n",
              "      <th>eat</th>\n",
              "      <th>trance</th>\n",
              "      <th>glooming</th>\n",
              "      <th>toilet</th>\n",
              "      <th>both</th>\n",
              "      <th>stairs</th>\n",
              "      <th>cloth</th>\n",
              "      <th>defecation</th>\n",
              "      <th>urination</th>\n",
              "      <th>target</th>\n",
              "    </tr>\n",
              "  </thead>\n",
              "  <tbody>\n",
              "    <tr>\n",
              "      <th>count</th>\n",
              "      <td>197.000000</td>\n",
              "      <td>197.000000</td>\n",
              "      <td>197.000000</td>\n",
              "      <td>197.000000</td>\n",
              "      <td>197.000000</td>\n",
              "      <td>197.000000</td>\n",
              "      <td>197.000000</td>\n",
              "      <td>197.000000</td>\n",
              "      <td>197.000000</td>\n",
              "      <td>197.000000</td>\n",
              "      <td>...</td>\n",
              "      <td>197.000000</td>\n",
              "      <td>197.000000</td>\n",
              "      <td>197.000000</td>\n",
              "      <td>197.000000</td>\n",
              "      <td>197.000000</td>\n",
              "      <td>197.000000</td>\n",
              "      <td>197.000000</td>\n",
              "      <td>197.000000</td>\n",
              "      <td>197.000000</td>\n",
              "      <td>197.000000</td>\n",
              "    </tr>\n",
              "    <tr>\n",
              "      <th>mean</th>\n",
              "      <td>69.644670</td>\n",
              "      <td>0.675127</td>\n",
              "      <td>0.335025</td>\n",
              "      <td>0.532995</td>\n",
              "      <td>0.614213</td>\n",
              "      <td>1.406091</td>\n",
              "      <td>4.105584</td>\n",
              "      <td>0.203046</td>\n",
              "      <td>0.101523</td>\n",
              "      <td>3.588832</td>\n",
              "      <td>...</td>\n",
              "      <td>5.736041</td>\n",
              "      <td>7.030457</td>\n",
              "      <td>1.548223</td>\n",
              "      <td>4.137056</td>\n",
              "      <td>0.101523</td>\n",
              "      <td>0.583756</td>\n",
              "      <td>3.502538</td>\n",
              "      <td>5.329949</td>\n",
              "      <td>5.228426</td>\n",
              "      <td>0.654822</td>\n",
              "    </tr>\n",
              "    <tr>\n",
              "      <th>std</th>\n",
              "      <td>12.576932</td>\n",
              "      <td>0.469521</td>\n",
              "      <td>0.669634</td>\n",
              "      <td>0.500181</td>\n",
              "      <td>0.488021</td>\n",
              "      <td>2.897494</td>\n",
              "      <td>0.544377</td>\n",
              "      <td>0.403291</td>\n",
              "      <td>0.302789</td>\n",
              "      <td>2.327405</td>\n",
              "      <td>...</td>\n",
              "      <td>4.296578</td>\n",
              "      <td>4.811666</td>\n",
              "      <td>2.317625</td>\n",
              "      <td>3.679299</td>\n",
              "      <td>0.706997</td>\n",
              "      <td>1.900414</td>\n",
              "      <td>3.523427</td>\n",
              "      <td>4.547680</td>\n",
              "      <td>4.553940</td>\n",
              "      <td>0.476637</td>\n",
              "    </tr>\n",
              "    <tr>\n",
              "      <th>min</th>\n",
              "      <td>33.000000</td>\n",
              "      <td>0.000000</td>\n",
              "      <td>0.000000</td>\n",
              "      <td>0.000000</td>\n",
              "      <td>0.000000</td>\n",
              "      <td>0.000000</td>\n",
              "      <td>2.300000</td>\n",
              "      <td>0.000000</td>\n",
              "      <td>0.000000</td>\n",
              "      <td>1.000000</td>\n",
              "      <td>...</td>\n",
              "      <td>0.000000</td>\n",
              "      <td>0.000000</td>\n",
              "      <td>0.000000</td>\n",
              "      <td>0.000000</td>\n",
              "      <td>0.000000</td>\n",
              "      <td>0.000000</td>\n",
              "      <td>0.000000</td>\n",
              "      <td>0.000000</td>\n",
              "      <td>0.000000</td>\n",
              "      <td>0.000000</td>\n",
              "    </tr>\n",
              "    <tr>\n",
              "      <th>25%</th>\n",
              "      <td>62.000000</td>\n",
              "      <td>0.000000</td>\n",
              "      <td>0.000000</td>\n",
              "      <td>0.000000</td>\n",
              "      <td>0.000000</td>\n",
              "      <td>0.000000</td>\n",
              "      <td>3.800000</td>\n",
              "      <td>0.000000</td>\n",
              "      <td>0.000000</td>\n",
              "      <td>2.000000</td>\n",
              "      <td>...</td>\n",
              "      <td>0.000000</td>\n",
              "      <td>5.000000</td>\n",
              "      <td>0.000000</td>\n",
              "      <td>0.000000</td>\n",
              "      <td>0.000000</td>\n",
              "      <td>0.000000</td>\n",
              "      <td>0.000000</td>\n",
              "      <td>0.000000</td>\n",
              "      <td>0.000000</td>\n",
              "      <td>0.000000</td>\n",
              "    </tr>\n",
              "    <tr>\n",
              "      <th>50%</th>\n",
              "      <td>72.000000</td>\n",
              "      <td>1.000000</td>\n",
              "      <td>0.000000</td>\n",
              "      <td>1.000000</td>\n",
              "      <td>1.000000</td>\n",
              "      <td>1.000000</td>\n",
              "      <td>4.100000</td>\n",
              "      <td>0.000000</td>\n",
              "      <td>0.000000</td>\n",
              "      <td>3.000000</td>\n",
              "      <td>...</td>\n",
              "      <td>5.000000</td>\n",
              "      <td>10.000000</td>\n",
              "      <td>0.000000</td>\n",
              "      <td>5.000000</td>\n",
              "      <td>0.000000</td>\n",
              "      <td>0.000000</td>\n",
              "      <td>5.000000</td>\n",
              "      <td>5.000000</td>\n",
              "      <td>5.000000</td>\n",
              "      <td>1.000000</td>\n",
              "    </tr>\n",
              "    <tr>\n",
              "      <th>75%</th>\n",
              "      <td>79.000000</td>\n",
              "      <td>1.000000</td>\n",
              "      <td>0.000000</td>\n",
              "      <td>1.000000</td>\n",
              "      <td>1.000000</td>\n",
              "      <td>1.000000</td>\n",
              "      <td>4.400000</td>\n",
              "      <td>0.000000</td>\n",
              "      <td>0.000000</td>\n",
              "      <td>4.000000</td>\n",
              "      <td>...</td>\n",
              "      <td>10.000000</td>\n",
              "      <td>10.000000</td>\n",
              "      <td>5.000000</td>\n",
              "      <td>5.000000</td>\n",
              "      <td>0.000000</td>\n",
              "      <td>0.000000</td>\n",
              "      <td>5.000000</td>\n",
              "      <td>10.000000</td>\n",
              "      <td>10.000000</td>\n",
              "      <td>1.000000</td>\n",
              "    </tr>\n",
              "    <tr>\n",
              "      <th>max</th>\n",
              "      <td>99.000000</td>\n",
              "      <td>1.000000</td>\n",
              "      <td>2.000000</td>\n",
              "      <td>1.000000</td>\n",
              "      <td>1.000000</td>\n",
              "      <td>27.000000</td>\n",
              "      <td>7.500000</td>\n",
              "      <td>1.000000</td>\n",
              "      <td>1.000000</td>\n",
              "      <td>20.000000</td>\n",
              "      <td>...</td>\n",
              "      <td>10.000000</td>\n",
              "      <td>15.000000</td>\n",
              "      <td>5.000000</td>\n",
              "      <td>10.000000</td>\n",
              "      <td>5.000000</td>\n",
              "      <td>10.000000</td>\n",
              "      <td>10.000000</td>\n",
              "      <td>10.000000</td>\n",
              "      <td>10.000000</td>\n",
              "      <td>1.000000</td>\n",
              "    </tr>\n",
              "  </tbody>\n",
              "</table>\n",
              "<p>8 rows × 48 columns</p>\n",
              "</div>\n",
              "      <button class=\"colab-df-convert\" onclick=\"convertToInteractive('df-dad33b90-b93f-4775-9f6e-30030e971f29')\"\n",
              "              title=\"Convert this dataframe to an interactive table.\"\n",
              "              style=\"display:none;\">\n",
              "        \n",
              "  <svg xmlns=\"http://www.w3.org/2000/svg\" height=\"24px\"viewBox=\"0 0 24 24\"\n",
              "       width=\"24px\">\n",
              "    <path d=\"M0 0h24v24H0V0z\" fill=\"none\"/>\n",
              "    <path d=\"M18.56 5.44l.94 2.06.94-2.06 2.06-.94-2.06-.94-.94-2.06-.94 2.06-2.06.94zm-11 1L8.5 8.5l.94-2.06 2.06-.94-2.06-.94L8.5 2.5l-.94 2.06-2.06.94zm10 10l.94 2.06.94-2.06 2.06-.94-2.06-.94-.94-2.06-.94 2.06-2.06.94z\"/><path d=\"M17.41 7.96l-1.37-1.37c-.4-.4-.92-.59-1.43-.59-.52 0-1.04.2-1.43.59L10.3 9.45l-7.72 7.72c-.78.78-.78 2.05 0 2.83L4 21.41c.39.39.9.59 1.41.59.51 0 1.02-.2 1.41-.59l7.78-7.78 2.81-2.81c.8-.78.8-2.07 0-2.86zM5.41 20L4 18.59l7.72-7.72 1.47 1.35L5.41 20z\"/>\n",
              "  </svg>\n",
              "      </button>\n",
              "      \n",
              "  <style>\n",
              "    .colab-df-container {\n",
              "      display:flex;\n",
              "      flex-wrap:wrap;\n",
              "      gap: 12px;\n",
              "    }\n",
              "\n",
              "    .colab-df-convert {\n",
              "      background-color: #E8F0FE;\n",
              "      border: none;\n",
              "      border-radius: 50%;\n",
              "      cursor: pointer;\n",
              "      display: none;\n",
              "      fill: #1967D2;\n",
              "      height: 32px;\n",
              "      padding: 0 0 0 0;\n",
              "      width: 32px;\n",
              "    }\n",
              "\n",
              "    .colab-df-convert:hover {\n",
              "      background-color: #E2EBFA;\n",
              "      box-shadow: 0px 1px 2px rgba(60, 64, 67, 0.3), 0px 1px 3px 1px rgba(60, 64, 67, 0.15);\n",
              "      fill: #174EA6;\n",
              "    }\n",
              "\n",
              "    [theme=dark] .colab-df-convert {\n",
              "      background-color: #3B4455;\n",
              "      fill: #D2E3FC;\n",
              "    }\n",
              "\n",
              "    [theme=dark] .colab-df-convert:hover {\n",
              "      background-color: #434B5C;\n",
              "      box-shadow: 0px 1px 3px 1px rgba(0, 0, 0, 0.15);\n",
              "      filter: drop-shadow(0px 1px 2px rgba(0, 0, 0, 0.3));\n",
              "      fill: #FFFFFF;\n",
              "    }\n",
              "  </style>\n",
              "\n",
              "      <script>\n",
              "        const buttonEl =\n",
              "          document.querySelector('#df-dad33b90-b93f-4775-9f6e-30030e971f29 button.colab-df-convert');\n",
              "        buttonEl.style.display =\n",
              "          google.colab.kernel.accessAllowed ? 'block' : 'none';\n",
              "\n",
              "        async function convertToInteractive(key) {\n",
              "          const element = document.querySelector('#df-dad33b90-b93f-4775-9f6e-30030e971f29');\n",
              "          const dataTable =\n",
              "            await google.colab.kernel.invokeFunction('convertToInteractive',\n",
              "                                                     [key], {});\n",
              "          if (!dataTable) return;\n",
              "\n",
              "          const docLinkHtml = 'Like what you see? Visit the ' +\n",
              "            '<a target=\"_blank\" href=https://colab.research.google.com/notebooks/data_table.ipynb>data table notebook</a>'\n",
              "            + ' to learn more about interactive tables.';\n",
              "          element.innerHTML = '';\n",
              "          dataTable['output_type'] = 'display_data';\n",
              "          await google.colab.output.renderOutput(dataTable, element);\n",
              "          const docLink = document.createElement('div');\n",
              "          docLink.innerHTML = docLinkHtml;\n",
              "          element.appendChild(docLink);\n",
              "        }\n",
              "      </script>\n",
              "    </div>\n",
              "  </div>\n",
              "  "
            ]
          },
          "metadata": {},
          "execution_count": 16
        }
      ]
    },
    {
      "cell_type": "code",
      "source": [
        "#特徴量とターゲットへデータを分割\n",
        "X_train = dataset.drop('target',axis = 1)\n",
        "y_train = dataset['target'].copy()\n",
        "X_test = dataset2.drop('target',axis = 1)\n",
        "y_test = dataset2['target'].copy()"
      ],
      "metadata": {
        "id": "L12KnFMm5AEE"
      },
      "execution_count": 17,
      "outputs": []
    },
    {
      "cell_type": "code",
      "source": [
        "print(X_train.columns)"
      ],
      "metadata": {
        "colab": {
          "base_uri": "https://localhost:8080/"
        },
        "id": "MtG_jQE5Pjzn",
        "outputId": "00495f84-72ea-450c-cee2-38bc2ea655ac"
      },
      "execution_count": 18,
      "outputs": [
        {
          "output_type": "stream",
          "name": "stdout",
          "text": [
            "Index(['year', 'sex1:male,0:female', 'before mRS', 'damage side:right1 left0',\n",
            "       'disease_infarction_hemorrhage ', 'Period_of_ impaired consciousness',\n",
            "       'ALB', 'medical_history(stroke)', 'complications',\n",
            "       'start_date_of_mobilization', 'con level', 'con_question',\n",
            "       'con_obedience', 'gaze', 'field_of_view', 'facial_paralysis',\n",
            "       'no_para_upper', 'no_para_low', 'ataxia', 'sensory', 'language',\n",
            "       'articulation', 'neglect', 'BRSupper', 'BRSfinger', 'BRS_low',\n",
            "       'ABMS2_turn_over', 'ABMSget_up', 'ABMSsit', 'ABMSrise_up',\n",
            "       'ABMS2_standing', 'sit_posture', 'sit_extension', 'sit_resistance',\n",
            "       'stand_posture', 'stand_extension', 'stand_resistance', 'FAC', 'eat',\n",
            "       'trance', 'glooming', 'toilet', 'both', 'stairs', 'cloth', 'defecation',\n",
            "       'urination'],\n",
            "      dtype='object')\n"
          ]
        }
      ]
    },
    {
      "cell_type": "code",
      "source": [
        "print(dataset.target)"
      ],
      "metadata": {
        "colab": {
          "base_uri": "https://localhost:8080/"
        },
        "id": "IsGy6PId8Kqa",
        "outputId": "500bf2e4-7f31-4b1e-c8d7-1d2b3609e70f"
      },
      "execution_count": 19,
      "outputs": [
        {
          "output_type": "stream",
          "name": "stdout",
          "text": [
            "0      1\n",
            "1      0\n",
            "2      1\n",
            "3      1\n",
            "4      0\n",
            "      ..\n",
            "192    1\n",
            "193    1\n",
            "194    1\n",
            "195    1\n",
            "196    1\n",
            "Name: target, Length: 197, dtype: int64\n"
          ]
        }
      ]
    },
    {
      "cell_type": "code",
      "source": [
        "print(dataset.shape)\n",
        "print(dataset2.shape)"
      ],
      "metadata": {
        "colab": {
          "base_uri": "https://localhost:8080/"
        },
        "id": "Yoz3Us1a-oo6",
        "outputId": "04fb92ef-5b7e-4ff8-a2fa-516d8ab2bee6"
      },
      "execution_count": 20,
      "outputs": [
        {
          "output_type": "stream",
          "name": "stdout",
          "text": [
            "(197, 48)\n",
            "(49, 48)\n"
          ]
        }
      ]
    },
    {
      "cell_type": "code",
      "source": [
        "dataset.isnull().sum()"
      ],
      "metadata": {
        "id": "ye9f_VrG-6yu",
        "colab": {
          "base_uri": "https://localhost:8080/"
        },
        "outputId": "f0f2d7d1-2615-43af-e3da-4808f3fe8559"
      },
      "execution_count": 21,
      "outputs": [
        {
          "output_type": "execute_result",
          "data": {
            "text/plain": [
              "year                                 0\n",
              "sex1:male,0:female                   0\n",
              "before mRS                           0\n",
              "damage side:right1 left0             0\n",
              "disease_infarction_hemorrhage        0\n",
              "Period_of_ impaired consciousness    0\n",
              "ALB                                  0\n",
              "medical_history(stroke)              0\n",
              "complications                        0\n",
              "start_date_of_mobilization           0\n",
              "con level                            0\n",
              "con_question                         0\n",
              "con_obedience                        0\n",
              "gaze                                 0\n",
              "field_of_view                        0\n",
              "facial_paralysis                     0\n",
              "no_para_upper                        0\n",
              "no_para_low                          0\n",
              "ataxia                               0\n",
              "sensory                              0\n",
              "language                             0\n",
              "articulation                         0\n",
              "neglect                              0\n",
              "BRSupper                             0\n",
              "BRSfinger                            0\n",
              "BRS_low                              0\n",
              "ABMS2_turn_over                      0\n",
              "ABMSget_up                           0\n",
              "ABMSsit                              0\n",
              "ABMSrise_up                          0\n",
              "ABMS2_standing                       0\n",
              "sit_posture                          0\n",
              "sit_extension                        0\n",
              "sit_resistance                       0\n",
              "stand_posture                        0\n",
              "stand_extension                      0\n",
              "stand_resistance                     0\n",
              "FAC                                  0\n",
              "eat                                  0\n",
              "trance                               0\n",
              "glooming                             0\n",
              "toilet                               0\n",
              "both                                 0\n",
              "stairs                               0\n",
              "cloth                                0\n",
              "defecation                           0\n",
              "urination                            0\n",
              "target                               0\n",
              "dtype: int64"
            ]
          },
          "metadata": {},
          "execution_count": 21
        }
      ]
    },
    {
      "cell_type": "code",
      "source": [
        "#訓練モデル\n",
        "xgboost_model = XGBClassifier()\n",
        "xgboost_model.fit(X_train,y_train)"
      ],
      "metadata": {
        "colab": {
          "base_uri": "https://localhost:8080/"
        },
        "id": "CWJGy0wiBBzp",
        "outputId": "a7434c2d-1c35-40e5-bffd-d3c6156a0466"
      },
      "execution_count": 23,
      "outputs": [
        {
          "output_type": "execute_result",
          "data": {
            "text/plain": [
              "XGBClassifier()"
            ]
          },
          "metadata": {},
          "execution_count": 23
        }
      ]
    },
    {
      "cell_type": "code",
      "source": [
        "#訓練モデルの予測\n",
        "y_pred = xgboost_model.predict(X_train)\n",
        "print(y_pred)"
      ],
      "metadata": {
        "colab": {
          "base_uri": "https://localhost:8080/"
        },
        "id": "fD424c47Bk8u",
        "outputId": "f8345fab-ac54-45d4-bb04-8d557be38104"
      },
      "execution_count": 24,
      "outputs": [
        {
          "output_type": "stream",
          "name": "stdout",
          "text": [
            "[1 0 1 1 0 0 1 0 1 1 0 1 1 1 1 1 1 0 1 0 0 1 0 1 1 0 1 1 1 1 1 1 1 0 1 1 1\n",
            " 1 0 1 1 1 1 1 1 1 1 0 0 0 0 1 1 1 0 0 1 1 1 1 1 1 1 1 1 1 1 0 1 1 1 1 1 1\n",
            " 0 0 1 1 1 1 1 1 0 0 0 0 0 1 0 0 1 1 1 1 1 1 1 1 1 1 1 0 0 1 1 1 1 1 1 1 0\n",
            " 0 0 1 1 1 0 0 0 1 1 1 1 0 1 1 0 1 0 1 1 0 1 1 0 1 0 0 0 0 0 0 1 1 1 1 1 1\n",
            " 1 0 0 1 1 1 0 0 0 1 1 1 1 0 0 1 0 1 1 1 1 1 0 1 0 0 0 1 1 0 1 1 0 0 0 0 0\n",
            " 0 1 1 0 1 0 0 1 1 1 1 1]\n"
          ]
        }
      ]
    },
    {
      "cell_type": "code",
      "source": [
        "#訓練データの混合行列\n",
        "confusion_matrix(y_train, y_pred,labels=[0,1])"
      ],
      "metadata": {
        "colab": {
          "base_uri": "https://localhost:8080/"
        },
        "id": "ZrqfXisQDqJj",
        "outputId": "58135116-ad32-4e57-d73e-733729b3fef0"
      },
      "execution_count": 26,
      "outputs": [
        {
          "output_type": "execute_result",
          "data": {
            "text/plain": [
              "array([[ 68,   0],\n",
              "       [  1, 128]])"
            ]
          },
          "metadata": {},
          "execution_count": 26
        }
      ]
    },
    {
      "cell_type": "code",
      "source": [
        "accuracy_score(y_train,y_pred)"
      ],
      "metadata": {
        "colab": {
          "base_uri": "https://localhost:8080/"
        },
        "id": "NRz1ySJSD-lJ",
        "outputId": "3aff60b6-1c16-4900-d659-61e3eeb6ca72"
      },
      "execution_count": 27,
      "outputs": [
        {
          "output_type": "execute_result",
          "data": {
            "text/plain": [
              "0.9949238578680203"
            ]
          },
          "metadata": {},
          "execution_count": 27
        }
      ]
    },
    {
      "cell_type": "code",
      "source": [
        "#テストデータの予測\n",
        "y_pred2 = xgboost_model.predict(X_test)"
      ],
      "metadata": {
        "id": "38ZTY05DLykG"
      },
      "execution_count": 28,
      "outputs": []
    },
    {
      "cell_type": "code",
      "source": [
        "#テストデータの混合行列\n",
        "confusion_matrix(y_test,y_pred2,labels=[0,1])"
      ],
      "metadata": {
        "colab": {
          "base_uri": "https://localhost:8080/"
        },
        "id": "_cjjEwnAL7Rw",
        "outputId": "b51a296b-625e-4024-8d00-0d5fd554d4a3"
      },
      "execution_count": 29,
      "outputs": [
        {
          "output_type": "execute_result",
          "data": {
            "text/plain": [
              "array([[13,  4],\n",
              "       [ 2, 30]])"
            ]
          },
          "metadata": {},
          "execution_count": 29
        }
      ]
    },
    {
      "cell_type": "code",
      "source": [
        "accuracy_score(y_test,y_pred2)"
      ],
      "metadata": {
        "colab": {
          "base_uri": "https://localhost:8080/"
        },
        "id": "Q317FXaGMNea",
        "outputId": "8248782b-d5d5-440d-d09d-cace9bccec7b"
      },
      "execution_count": 30,
      "outputs": [
        {
          "output_type": "execute_result",
          "data": {
            "text/plain": [
              "0.8775510204081632"
            ]
          },
          "metadata": {},
          "execution_count": 30
        }
      ]
    },
    {
      "cell_type": "code",
      "source": [
        "#ROC曲線\n",
        "from sklearn.metrics import roc_curve"
      ],
      "metadata": {
        "id": "XpL55AXvhbEZ"
      },
      "execution_count": 57,
      "outputs": []
    },
    {
      "cell_type": "code",
      "source": [
        "#訓練データROC曲線\n",
        "fpr,tpr,thresholds = roc_curve(y_train,y_pred)\n",
        "plt.plot([0,1],[0,1],'k--')\n",
        "plt.plot(fpr,tpr,label='XGBoost Classifier')\n",
        "plt.xlabel('False Positive Rate')\n",
        "plt.ylabel('True Positive Rate')\n",
        "plt.title('ROC Curve')\n",
        "plt.show()"
      ],
      "metadata": {
        "id": "hp204zIws4Ig",
        "colab": {
          "base_uri": "https://localhost:8080/",
          "height": 295
        },
        "outputId": "405df01e-5aa2-435d-946b-d9744d5f63fb"
      },
      "execution_count": 58,
      "outputs": [
        {
          "output_type": "display_data",
          "data": {
            "text/plain": [
              "<Figure size 432x288 with 1 Axes>"
            ],
            "image/png": "[encoded data removed]"
          },
          "metadata": {
            "needs_background": "light"
          }
        }
      ]
    },
    {
      "cell_type": "code",
      "source": [
        "#テストデータROC曲線\n",
        "fpr,tpr,thresholds = roc_curve(y_test,y_pred2)\n",
        "plt.plot([0,1],[0,1],'k--')\n",
        "plt.plot(fpr,tpr,label='XGBoost Classifier')\n",
        "plt.xlabel('False Positive Rate')\n",
        "plt.ylabel('True Positive Rate')\n",
        "plt.title('ROC Curve')\n",
        "plt.show()"
      ],
      "metadata": {
        "id": "Cu4QWe2Yzml4",
        "colab": {
          "base_uri": "https://localhost:8080/",
          "height": 295
        },
        "outputId": "a489e069-0f51-4f56-a760-8b4e7cfe7cd6"
      },
      "execution_count": 103,
      "outputs": [
        {
          "output_type": "display_data",
          "data": {
            "text/plain": [
              "<Figure size 432x288 with 1 Axes>"
            ],
            "image/png": "[encoded data removed]"
          },
          "metadata": {
            "needs_background": "light"
          }
        }
      ]
    },
    {
      "cell_type": "code",
      "source": [
        "from sklearn.metrics import roc_auc_score\n",
        "from sklearn.model_selection import cross_val_score"
      ],
      "metadata": {
        "id": "AqTBr9-nuIxa"
      },
      "execution_count": 60,
      "outputs": []
    },
    {
      "cell_type": "code",
      "source": [
        "#AUC\n",
        "print('AUC:{}'.format(roc_auc_score(y_train,y_pred)))\n",
        "print('AUC:{}'.format(roc_auc_score(y_test,y_pred2)))"
      ],
      "metadata": {
        "id": "YK0AeC6nuspc",
        "colab": {
          "base_uri": "https://localhost:8080/"
        },
        "outputId": "5727ffd0-7309-4f4b-beab-bcd3e4945e8b"
      },
      "execution_count": 61,
      "outputs": [
        {
          "output_type": "stream",
          "name": "stdout",
          "text": [
            "AUC:0.9961240310077519\n",
            "AUC:0.8511029411764706\n"
          ]
        }
      ]
    },
    {
      "cell_type": "code",
      "source": [
        "#precision(適合率)　訓練データ\n",
        "from sklearn.metrics import precision_score\n",
        "print(precision_score(y_train,y_pred,average='binary'))"
      ],
      "metadata": {
        "id": "ZjNlJTeLvyr7",
        "colab": {
          "base_uri": "https://localhost:8080/"
        },
        "outputId": "8afa1751-6495-48e4-ca70-48ae3b800286"
      },
      "execution_count": 63,
      "outputs": [
        {
          "output_type": "stream",
          "name": "stdout",
          "text": [
            "1.0\n"
          ]
        }
      ]
    },
    {
      "cell_type": "code",
      "source": [
        "#precision(適合率)　テストデータ\n",
        "from sklearn.metrics import precision_score\n",
        "print(precision_score(y_test,y_pred2,average='binary'))"
      ],
      "metadata": {
        "colab": {
          "base_uri": "https://localhost:8080/"
        },
        "id": "7viGlsgjapHk",
        "outputId": "03e44561-b018-466c-b515-47b3cbaf5fcf"
      },
      "execution_count": 64,
      "outputs": [
        {
          "output_type": "stream",
          "name": "stdout",
          "text": [
            "0.8823529411764706\n"
          ]
        }
      ]
    },
    {
      "cell_type": "code",
      "source": [
        "#recall.senstive(再現率)　訓練データ\n",
        "from sklearn.metrics import recall_score\n",
        "print(recall_score(y_train,y_pred,average='binary'))"
      ],
      "metadata": {
        "id": "S3hqivgBxms9",
        "colab": {
          "base_uri": "https://localhost:8080/"
        },
        "outputId": "05b3a10d-4e64-4ab4-d107-6427252d47b0"
      },
      "execution_count": 65,
      "outputs": [
        {
          "output_type": "stream",
          "name": "stdout",
          "text": [
            "0.9922480620155039\n"
          ]
        }
      ]
    },
    {
      "cell_type": "code",
      "source": [
        "#recall.senstive(再現率)　テストデータ\n",
        "from sklearn.metrics import recall_score\n",
        "print(recall_score(y_test,y_pred2,average='binary'))"
      ],
      "metadata": {
        "colab": {
          "base_uri": "https://localhost:8080/"
        },
        "outputId": "3c8b5abd-a97e-4d41-9cb1-432ebb00e2a3",
        "id": "7_Op00z7aIUm"
      },
      "execution_count": 66,
      "outputs": [
        {
          "output_type": "stream",
          "name": "stdout",
          "text": [
            "0.9375\n"
          ]
        }
      ]
    },
    {
      "cell_type": "code",
      "source": [
        "#F値　訓練データ\n",
        "from sklearn.metrics import f1_score\n",
        "print(f1_score(y_train,y_pred,average='binary'))"
      ],
      "metadata": {
        "id": "8WWa5XboyTk7",
        "colab": {
          "base_uri": "https://localhost:8080/"
        },
        "outputId": "710860ea-7032-4b51-cf2e-9b68e3465feb"
      },
      "execution_count": 67,
      "outputs": [
        {
          "output_type": "stream",
          "name": "stdout",
          "text": [
            "0.9961089494163424\n"
          ]
        }
      ]
    },
    {
      "cell_type": "code",
      "source": [
        "#F値　テストデータ\n",
        "from sklearn.metrics import f1_score\n",
        "print(f1_score(y_test,y_pred2,average='binary'))"
      ],
      "metadata": {
        "colab": {
          "base_uri": "https://localhost:8080/"
        },
        "id": "e6d9hEl8aTG2",
        "outputId": "5d39f80b-eddc-4b10-8590-f061cf405dab"
      },
      "execution_count": 104,
      "outputs": [
        {
          "output_type": "stream",
          "name": "stdout",
          "text": [
            "0.9090909090909091\n"
          ]
        }
      ]
    },
    {
      "cell_type": "code",
      "source": [
        "#分類レポート\n",
        "from sklearn.metrics import classification_report\n",
        "print(classification_report(y_train,y_pred))\n",
        "print(classification_report(y_test,y_pred2))"
      ],
      "metadata": {
        "id": "CCY9yWdcyux2",
        "colab": {
          "base_uri": "https://localhost:8080/"
        },
        "outputId": "3b974061-3c00-4af4-9737-84f12c1c056a"
      },
      "execution_count": 69,
      "outputs": [
        {
          "output_type": "stream",
          "name": "stdout",
          "text": [
            "              precision    recall  f1-score   support\n",
            "\n",
            "           0       0.99      1.00      0.99        68\n",
            "           1       1.00      0.99      1.00       129\n",
            "\n",
            "    accuracy                           0.99       197\n",
            "   macro avg       0.99      1.00      0.99       197\n",
            "weighted avg       0.99      0.99      0.99       197\n",
            "\n",
            "              precision    recall  f1-score   support\n",
            "\n",
            "           0       0.87      0.76      0.81        17\n",
            "           1       0.88      0.94      0.91        32\n",
            "\n",
            "    accuracy                           0.88        49\n",
            "   macro avg       0.87      0.85      0.86        49\n",
            "weighted avg       0.88      0.88      0.88        49\n",
            "\n"
          ]
        }
      ]
    },
    {
      "cell_type": "code",
      "source": [
        "import joblib"
      ],
      "metadata": {
        "id": "p3dRR1YniHGA"
      },
      "execution_count": 84,
      "outputs": []
    },
    {
      "cell_type": "code",
      "source": [
        "!pip install shap"
      ],
      "metadata": {
        "colab": {
          "base_uri": "https://localhost:8080/"
        },
        "id": "LqAPW3xJlmhH",
        "outputId": "e0c3ac6b-a870-4de1-cf92-38f3e7ae63b1"
      },
      "execution_count": 85,
      "outputs": [
        {
          "output_type": "stream",
          "name": "stdout",
          "text": [
            "Looking in indexes: https://pypi.org/simple, https://us-python.pkg.dev/colab-wheels/public/simple/\n",
            "Collecting shap\n",
            "  Downloading shap-0.41.0-cp38-cp38-manylinux_2_12_x86_64.manylinux2010_x86_64.whl (575 kB)\n",
            "\u001b[K     |████████████████████████████████| 575 kB 13.3 MB/s \n",
            "\u001b[?25hRequirement already satisfied: scikit-learn in /usr/local/lib/python3.8/dist-packages (from shap) (1.0.2)\n",
            "Requirement already satisfied: numba in /usr/local/lib/python3.8/dist-packages (from shap) (0.56.4)\n",
            "Requirement already satisfied: cloudpickle in /usr/local/lib/python3.8/dist-packages (from shap) (1.5.0)\n",
            "Requirement already satisfied: pandas in /usr/local/lib/python3.8/dist-packages (from shap) (1.3.5)\n",
            "Collecting slicer==0.0.7\n",
            "  Downloading slicer-0.0.7-py3-none-any.whl (14 kB)\n",
            "Requirement already satisfied: packaging>20.9 in /usr/local/lib/python3.8/dist-packages (from shap) (21.3)\n",
            "Requirement already satisfied: numpy in /usr/local/lib/python3.8/dist-packages (from shap) (1.21.6)\n",
            "Requirement already satisfied: tqdm>4.25.0 in /usr/local/lib/python3.8/dist-packages (from shap) (4.64.1)\n",
            "Requirement already satisfied: scipy in /usr/local/lib/python3.8/dist-packages (from shap) (1.7.3)\n",
            "Requirement already satisfied: pyparsing!=3.0.5,>=2.0.2 in /usr/local/lib/python3.8/dist-packages (from packaging>20.9->shap) (3.0.9)\n",
            "Requirement already satisfied: setuptools in /usr/local/lib/python3.8/dist-packages (from numba->shap) (57.4.0)\n",
            "Requirement already satisfied: importlib-metadata in /usr/local/lib/python3.8/dist-packages (from numba->shap) (5.1.0)\n",
            "Requirement already satisfied: llvmlite<0.40,>=0.39.0dev0 in /usr/local/lib/python3.8/dist-packages (from numba->shap) (0.39.1)\n",
            "Requirement already satisfied: zipp>=0.5 in /usr/local/lib/python3.8/dist-packages (from importlib-metadata->numba->shap) (3.11.0)\n",
            "Requirement already satisfied: python-dateutil>=2.7.3 in /usr/local/lib/python3.8/dist-packages (from pandas->shap) (2.8.2)\n",
            "Requirement already satisfied: pytz>=2017.3 in /usr/local/lib/python3.8/dist-packages (from pandas->shap) (2022.6)\n",
            "Requirement already satisfied: six>=1.5 in /usr/local/lib/python3.8/dist-packages (from python-dateutil>=2.7.3->pandas->shap) (1.15.0)\n",
            "Requirement already satisfied: joblib>=0.11 in /usr/local/lib/python3.8/dist-packages (from scikit-learn->shap) (1.2.0)\n",
            "Requirement already satisfied: threadpoolctl>=2.0.0 in /usr/local/lib/python3.8/dist-packages (from scikit-learn->shap) (3.1.0)\n",
            "Installing collected packages: slicer, shap\n",
            "Successfully installed shap-0.41.0 slicer-0.0.7\n"
          ]
        }
      ]
    },
    {
      "cell_type": "code",
      "source": [
        "import shap"
      ],
      "metadata": {
        "id": "vF0QmdTElwHB"
      },
      "execution_count": 86,
      "outputs": []
    },
    {
      "cell_type": "code",
      "source": [
        "explainer = shap.TreeExplainer(model=xgboost_model,data=X_train,feature_perturbation=\"interventional\",)"
      ],
      "metadata": {
        "id": "ChPqREY8mEbM"
      },
      "execution_count": 87,
      "outputs": []
    },
    {
      "cell_type": "code",
      "source": [
        "shap_values = explainer(X_train)"
      ],
      "metadata": {
        "id": "lRNF8ejnmeAF"
      },
      "execution_count": 88,
      "outputs": []
    },
    {
      "cell_type": "code",
      "source": [
        "shap_values[0]"
      ],
      "metadata": {
        "colab": {
          "base_uri": "https://localhost:8080/"
        },
        "id": "0Ek34xKwmm4F",
        "outputId": "d438f674-994b-4429-8313-abe22c1ff218"
      },
      "execution_count": 89,
      "outputs": [
        {
          "output_type": "execute_result",
          "data": {
            "text/plain": [
              ".values =\n",
              "array([ 0.53913504,  0.07520055,  0.05157212,  0.02256806, -0.25715758,\n",
              "       -0.04026424,  0.38445247,  0.        ,  0.        , -0.14963254,\n",
              "        0.03705205, -0.01751266, -0.00328644, -0.00930766,  0.05077023,\n",
              "        0.01807956, -0.05204168,  0.        ,  0.        , -0.08592923,\n",
              "       -0.01112906, -0.06500882, -0.00134044, -0.07049111, -0.02002528,\n",
              "        0.63549272,  0.30342552,  0.00505478,  0.1696441 ,  0.20187274,\n",
              "        0.29365675,  0.00348555,  0.00167729,  0.        ,  0.00611909,\n",
              "        0.        ,  0.        ,  0.62502607, -0.04098304,  0.06554494,\n",
              "        0.0568021 ,  0.14700867,  0.        ,  0.        ,  0.35641496,\n",
              "        0.11879974,  0.15653832])\n",
              "\n",
              ".base_values =\n",
              "1.76131571610018\n",
              "\n",
              ".data =\n",
              "array([50.,  1.,  0.,  1.,  0.,  1.,  4.,  0.,  0.,  2.,  0.,  0.,  0.,\n",
              "        0.,  0.,  1.,  0.,  0.,  0.,  1.,  0.,  1.,  1.,  6.,  6.,  6.,\n",
              "        6.,  6.,  6.,  4.,  4.,  0.,  0.,  0.,  0.,  0.,  0.,  2., 10.,\n",
              "       10.,  0.,  5.,  0.,  0., 10., 10., 10.])"
            ]
          },
          "metadata": {},
          "execution_count": 89
        }
      ]
    },
    {
      "cell_type": "code",
      "source": [
        "#　ある一症例のSHAP値①\n",
        "shap.plots.waterfall(shap_values[0])"
      ],
      "metadata": {
        "colab": {
          "base_uri": "https://localhost:8080/",
          "height": 444
        },
        "id": "k2YHddSEmtQK",
        "outputId": "400f8541-0594-4350-ec24-507eb2a7a051"
      },
      "execution_count": 90,
      "outputs": [
        {
          "output_type": "display_data",
          "data": {
            "text/plain": [
              "<Figure size 576x468 with 3 Axes>"
            ],
            "image/png": "[encoded data removed]"
          },
          "metadata": {}
        }
      ]
    },
    {
      "cell_type": "code",
      "source": [
        "#　ある一症例のSHAP値②\n",
        "shap.plots.waterfall(shap_values[1])"
      ],
      "metadata": {
        "colab": {
          "base_uri": "https://localhost:8080/",
          "height": 444
        },
        "id": "62ULKSiqnTjt",
        "outputId": "5a090f38-6f9a-428d-98ff-a5b0cbc9b82b"
      },
      "execution_count": 91,
      "outputs": [
        {
          "output_type": "display_data",
          "data": {
            "text/plain": [
              "<Figure size 576x468 with 3 Axes>"
            ],
            "image/png": "[encoded data removed]"
          },
          "metadata": {}
        }
      ]
    },
    {
      "cell_type": "code",
      "source": [
        "#学習データでのshap　全例\n",
        "shap.plots.bar(shap_values=shap_values)"
      ],
      "metadata": {
        "colab": {
          "base_uri": "https://localhost:8080/",
          "height": 418
        },
        "id": "RYDBLUi0odxI",
        "outputId": "a03ad2c1-9f52-4fad-bfd7-3ea76b45ed91"
      },
      "execution_count": 92,
      "outputs": [
        {
          "output_type": "display_data",
          "data": {
            "text/plain": [
              "<Figure size 576x468 with 1 Axes>"
            ],
            "image/png": "[encoded data removed]"
          },
          "metadata": {}
        }
      ]
    },
    {
      "cell_type": "code",
      "source": [
        "#訓練データ　SHAP値分布図\n",
        "shap.plots.beeswarm(shap_values)"
      ],
      "metadata": {
        "colab": {
          "base_uri": "https://localhost:8080/",
          "height": 368
        },
        "id": "WJ-6ZxwKps0y",
        "outputId": "6ce3d753-a372-44b0-a5ae-88e689f7d311"
      },
      "execution_count": 93,
      "outputs": [
        {
          "output_type": "display_data",
          "data": {
            "text/plain": [
              "<Figure size 576x396 with 2 Axes>"
            ],
            "image/png": "[encoded data removed]"
          },
          "metadata": {
            "needs_background": "light"
          }
        }
      ]
    },
    {
      "cell_type": "code",
      "source": [
        "explainer2 = shap.TreeExplainer(model=xgboost_model,data=X_test,feature_perturbation=\"interventional\",)"
      ],
      "metadata": {
        "id": "DcYGG5PdsFBZ"
      },
      "execution_count": 98,
      "outputs": []
    },
    {
      "cell_type": "code",
      "source": [
        "shap_values2 = explainer2(X_test)"
      ],
      "metadata": {
        "id": "WYyUlObgspm_"
      },
      "execution_count": 99,
      "outputs": []
    },
    {
      "cell_type": "code",
      "source": [
        "#テストデータでのshap値　全例\n",
        "shap.plots.bar(shap_values=shap_values2)"
      ],
      "metadata": {
        "colab": {
          "base_uri": "https://localhost:8080/",
          "height": 418
        },
        "id": "P7ObjBKAtSB-",
        "outputId": "87a3d355-dde0-4717-ae25-4f2d603075bc"
      },
      "execution_count": 100,
      "outputs": [
        {
          "output_type": "display_data",
          "data": {
            "text/plain": [
              "<Figure size 576x468 with 1 Axes>"
            ],
            "image/png": "[encoded data removed]"
          },
          "metadata": {}
        }
      ]
    },
    {
      "cell_type": "code",
      "source": [
        "#テストデータ　SHAP値分布図\n",
        "shap.plots.beeswarm(shap_values2)"
      ],
      "metadata": {
        "colab": {
          "base_uri": "https://localhost:8080/",
          "height": 368
        },
        "id": "xcsrjQz2W80c",
        "outputId": "fdf2f934-d1b2-4c62-80eb-2ddb088f2336"
      },
      "execution_count": 101,
      "outputs": [
        {
          "output_type": "display_data",
          "data": {
            "text/plain": [
              "<Figure size 576x396 with 2 Axes>"
            ],
            "image/png": "[encoded data removed]"
          },
          "metadata": {
            "needs_background": "light"
          }
        }
      ]
    }
  ]
}
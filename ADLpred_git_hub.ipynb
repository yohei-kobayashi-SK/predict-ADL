{
  "nbformat": 4,
  "nbformat_minor": 0,
  "metadata": {
    "colab": {
      "provenance": [],
      "mount_file_id": "1PfGdZ0_HZGQuIdsax2EoLGTopj6am2jF",
      "authorship_tag": "ABX9TyOIBaJriPh+FDrC3bmoasD0",
      "include_colab_link": true
    },
    "kernelspec": {
      "name": "python3",
      "display_name": "Python 3"
    },
    "language_info": {
      "name": "python"
    }
  },
  "cells": [
    {
      "cell_type": "markdown",
      "metadata": {
        "id": "view-in-github",
        "colab_type": "text"
      },
      "source": [
        "<a href=\"https://colab.research.google.com/github/yohei-kobayashi-SK/predict-ADL/blob/main/ADLpred_git_hub.ipynb\" target=\"_parent\"><img src=\"https://colab.research.google.com/assets/colab-badge.svg\" alt=\"Open In Colab\"/></a>"
      ]
    },
    {
      "cell_type": "code",
      "execution_count": null,
      "metadata": {
        "id": "fYLljC7x06a_"
      },
      "outputs": [],
      "source": [
        "import pandas as pd\n",
        "import numpy as np"
      ]
    },
    {
      "cell_type": "code",
      "source": [
        "import matplotlib.pyplot as plt\n",
        "import matplotlib.gridspec as gridspec\n",
        "import seaborn as sns\n",
        "%matplotlib inline"
      ],
      "metadata": {
        "id": "iOI2KZrH1apU"
      },
      "execution_count": null,
      "outputs": []
    },
    {
      "cell_type": "code",
      "source": [
        "from sklearn import datasets\n",
        "from sklearn.model_selection import train_test_split\n",
        "from sklearn.metrics import confusion_matrix\n",
        "from sklearn.metrics import accuracy_score\n",
        "\n",
        "import xgboost as xgb\n",
        "from xgboost import XGBClassifier"
      ],
      "metadata": {
        "id": "c-zsT8YO1qK8"
      },
      "execution_count": null,
      "outputs": []
    },
    {
      "cell_type": "code",
      "source": [
        "from sklearn.model_selection import GridSearchCV"
      ],
      "metadata": {
        "id": "cA585mx64P01"
      },
      "execution_count": null,
      "outputs": []
    },
    {
      "cell_type": "code",
      "source": [
        "import warnings\n",
        "warnings.simplefilter('ignore',DeprecationWarning)"
      ],
      "metadata": {
        "id": "5qOxEB822T_Y"
      },
      "execution_count": null,
      "outputs": []
    },
    {
      "cell_type": "code",
      "source": [
        "# **.csv\n",
        "dataset = pd.read_csv(\"**train.csv\")\n",
        "dataset2 = pd.read_csv(\"**test.csv\")"
      ],
      "metadata": {
        "id": "vb4rg8NI2k4i"
      },
      "execution_count": null,
      "outputs": []
    },
    {
      "cell_type": "code",
      "source": [
        "dataset"
      ],
      "metadata": {
        "colab": {
          "base_uri": "https://localhost:8080/",
          "height": 522
        },
        "id": "VfcEj4xZ4z2W",
        "outputId": "bad67a77-c060-4b6a-c92e-b5a968f93732"
      },
      "execution_count": null,
      "outputs": [
        {
          "output_type": "execute_result",
          "data": {
            "text/plain": [
              "     year  sex1:male,0:female  before mRS  damage side:right1 left0  \\\n",
              "0      50                   1           0                         1   \n",
              "1      74                   1           0                         1   \n",
              "2      64                   0           0                         0   \n",
              "3      78                   0           0                         0   \n",
              "4      79                   1           0                         0   \n",
              "..    ...                 ...         ...                       ...   \n",
              "192    79                   0           0                         0   \n",
              "193    76                   0           1                         1   \n",
              "194    62                   1           0                         1   \n",
              "195    83                   0           0                         0   \n",
              "196    51                   1           0                         1   \n",
              "\n",
              "     disease_infarction_hemorrhage   Period_of_ impaired consciousness  ALB  \\\n",
              "0                                 0                                  1  4.0   \n",
              "1                                 1                                  3  3.6   \n",
              "2                                 1                                  0  4.2   \n",
              "3                                 1                                  2  3.7   \n",
              "4                                 1                                  0  3.5   \n",
              "..                              ...                                ...  ...   \n",
              "192                               0                                  5  3.9   \n",
              "193                               0                                  2  4.0   \n",
              "194                               0                                  1  4.1   \n",
              "195                               0                                  1  3.7   \n",
              "196                               0                                  2  3.4   \n",
              "\n",
              "     medical_history(stroke)  complications  start_date_of_mobilization  ...  \\\n",
              "0                          0              0                           2  ...   \n",
              "1                          0              0                           3  ...   \n",
              "2                          0              0                           4  ...   \n",
              "3                          0              0                           2  ...   \n",
              "4                          0              0                           2  ...   \n",
              "..                       ...            ...                         ...  ...   \n",
              "192                        0              0                           6  ...   \n",
              "193                        0              0                           4  ...   \n",
              "194                        0              0                           6  ...   \n",
              "195                        0              0                          10  ...   \n",
              "196                        0              0                           2  ...   \n",
              "\n",
              "     BI_feeding  BI_transfer  BI_glooming  BI_toilet_use  BI_bathing  \\\n",
              "0            10           10            0              5           0   \n",
              "1             0            0            0              0           0   \n",
              "2            10           10            0              5           0   \n",
              "3             0           10            0              5           0   \n",
              "4             0            5            0              0           0   \n",
              "..          ...          ...          ...            ...         ...   \n",
              "192          10            5            0              5           0   \n",
              "193           0            0            0              0           0   \n",
              "194          10           10            5              5           0   \n",
              "195          10           10            5              5           0   \n",
              "196          10           10            5              5           0   \n",
              "\n",
              "     BI_stairs  BI_dressing  BI_bowels  BI_bladder  target  \n",
              "0            0           10         10          10       1  \n",
              "1            0            0          0           0       0  \n",
              "2            0            5          0           0       1  \n",
              "3            0            0          0           0       1  \n",
              "4            0            0          5           5       0  \n",
              "..         ...          ...        ...         ...     ...  \n",
              "192          5            5          0           5       1  \n",
              "193          0            0          0           0       1  \n",
              "194          5            5          5           5       1  \n",
              "195          0            5         10          10       1  \n",
              "196          5            5          5           5       1  \n",
              "\n",
              "[197 rows x 48 columns]"
            ],
            "text/html": [
              "\n",
              "  <div id=\"df-01d2fa58-368b-45cc-9fd4-3f5da0d009c8\">\n",
              "    <div class=\"colab-df-container\">\n",
              "      <div>\n",
              "<style scoped>\n",
              "    .dataframe tbody tr th:only-of-type {\n",
              "        vertical-align: middle;\n",
              "    }\n",
              "\n",
              "    .dataframe tbody tr th {\n",
              "        vertical-align: top;\n",
              "    }\n",
              "\n",
              "    .dataframe thead th {\n",
              "        text-align: right;\n",
              "    }\n",
              "</style>\n",
              "<table border=\"1\" class=\"dataframe\">\n",
              "  <thead>\n",
              "    <tr style=\"text-align: right;\">\n",
              "      <th></th>\n",
              "      <th>year</th>\n",
              "      <th>sex1:male,0:female</th>\n",
              "      <th>before mRS</th>\n",
              "      <th>damage side:right1 left0</th>\n",
              "      <th>disease_infarction_hemorrhage</th>\n",
              "      <th>Period_of_ impaired consciousness</th>\n",
              "      <th>ALB</th>\n",
              "      <th>medical_history(stroke)</th>\n",
              "      <th>complications</th>\n",
              "      <th>start_date_of_mobilization</th>\n",
              "      <th>...</th>\n",
              "      <th>BI_feeding</th>\n",
              "      <th>BI_transfer</th>\n",
              "      <th>BI_glooming</th>\n",
              "      <th>BI_toilet_use</th>\n",
              "      <th>BI_bathing</th>\n",
              "      <th>BI_stairs</th>\n",
              "      <th>BI_dressing</th>\n",
              "      <th>BI_bowels</th>\n",
              "      <th>BI_bladder</th>\n",
              "      <th>target</th>\n",
              "    </tr>\n",
              "  </thead>\n",
              "  <tbody>\n",
              "    <tr>\n",
              "      <th>0</th>\n",
              "      <td>50</td>\n",
              "      <td>1</td>\n",
              "      <td>0</td>\n",
              "      <td>1</td>\n",
              "      <td>0</td>\n",
              "      <td>1</td>\n",
              "      <td>4.0</td>\n",
              "      <td>0</td>\n",
              "      <td>0</td>\n",
              "      <td>2</td>\n",
              "      <td>...</td>\n",
              "      <td>10</td>\n",
              "      <td>10</td>\n",
              "      <td>0</td>\n",
              "      <td>5</td>\n",
              "      <td>0</td>\n",
              "      <td>0</td>\n",
              "      <td>10</td>\n",
              "      <td>10</td>\n",
              "      <td>10</td>\n",
              "      <td>1</td>\n",
              "    </tr>\n",
              "    <tr>\n",
              "      <th>1</th>\n",
              "      <td>74</td>\n",
              "      <td>1</td>\n",
              "      <td>0</td>\n",
              "      <td>1</td>\n",
              "      <td>1</td>\n",
              "      <td>3</td>\n",
              "      <td>3.6</td>\n",
              "      <td>0</td>\n",
              "      <td>0</td>\n",
              "      <td>3</td>\n",
              "      <td>...</td>\n",
              "      <td>0</td>\n",
              "      <td>0</td>\n",
              "      <td>0</td>\n",
              "      <td>0</td>\n",
              "      <td>0</td>\n",
              "      <td>0</td>\n",
              "      <td>0</td>\n",
              "      <td>0</td>\n",
              "      <td>0</td>\n",
              "      <td>0</td>\n",
              "    </tr>\n",
              "    <tr>\n",
              "      <th>2</th>\n",
              "      <td>64</td>\n",
              "      <td>0</td>\n",
              "      <td>0</td>\n",
              "      <td>0</td>\n",
              "      <td>1</td>\n",
              "      <td>0</td>\n",
              "      <td>4.2</td>\n",
              "      <td>0</td>\n",
              "      <td>0</td>\n",
              "      <td>4</td>\n",
              "      <td>...</td>\n",
              "      <td>10</td>\n",
              "      <td>10</td>\n",
              "      <td>0</td>\n",
              "      <td>5</td>\n",
              "      <td>0</td>\n",
              "      <td>0</td>\n",
              "      <td>5</td>\n",
              "      <td>0</td>\n",
              "      <td>0</td>\n",
              "      <td>1</td>\n",
              "    </tr>\n",
              "    <tr>\n",
              "      <th>3</th>\n",
              "      <td>78</td>\n",
              "      <td>0</td>\n",
              "      <td>0</td>\n",
              "      <td>0</td>\n",
              "      <td>1</td>\n",
              "      <td>2</td>\n",
              "      <td>3.7</td>\n",
              "      <td>0</td>\n",
              "      <td>0</td>\n",
              "      <td>2</td>\n",
              "      <td>...</td>\n",
              "      <td>0</td>\n",
              "      <td>10</td>\n",
              "      <td>0</td>\n",
              "      <td>5</td>\n",
              "      <td>0</td>\n",
              "      <td>0</td>\n",
              "      <td>0</td>\n",
              "      <td>0</td>\n",
              "      <td>0</td>\n",
              "      <td>1</td>\n",
              "    </tr>\n",
              "    <tr>\n",
              "      <th>4</th>\n",
              "      <td>79</td>\n",
              "      <td>1</td>\n",
              "      <td>0</td>\n",
              "      <td>0</td>\n",
              "      <td>1</td>\n",
              "      <td>0</td>\n",
              "      <td>3.5</td>\n",
              "      <td>0</td>\n",
              "      <td>0</td>\n",
              "      <td>2</td>\n",
              "      <td>...</td>\n",
              "      <td>0</td>\n",
              "      <td>5</td>\n",
              "      <td>0</td>\n",
              "      <td>0</td>\n",
              "      <td>0</td>\n",
              "      <td>0</td>\n",
              "      <td>0</td>\n",
              "      <td>5</td>\n",
              "      <td>5</td>\n",
              "      <td>0</td>\n",
              "    </tr>\n",
              "    <tr>\n",
              "      <th>...</th>\n",
              "      <td>...</td>\n",
              "      <td>...</td>\n",
              "      <td>...</td>\n",
              "      <td>...</td>\n",
              "      <td>...</td>\n",
              "      <td>...</td>\n",
              "      <td>...</td>\n",
              "      <td>...</td>\n",
              "      <td>...</td>\n",
              "      <td>...</td>\n",
              "      <td>...</td>\n",
              "      <td>...</td>\n",
              "      <td>...</td>\n",
              "      <td>...</td>\n",
              "      <td>...</td>\n",
              "      <td>...</td>\n",
              "      <td>...</td>\n",
              "      <td>...</td>\n",
              "      <td>...</td>\n",
              "      <td>...</td>\n",
              "      <td>...</td>\n",
              "    </tr>\n",
              "    <tr>\n",
              "      <th>192</th>\n",
              "      <td>79</td>\n",
              "      <td>0</td>\n",
              "      <td>0</td>\n",
              "      <td>0</td>\n",
              "      <td>0</td>\n",
              "      <td>5</td>\n",
              "      <td>3.9</td>\n",
              "      <td>0</td>\n",
              "      <td>0</td>\n",
              "      <td>6</td>\n",
              "      <td>...</td>\n",
              "      <td>10</td>\n",
              "      <td>5</td>\n",
              "      <td>0</td>\n",
              "      <td>5</td>\n",
              "      <td>0</td>\n",
              "      <td>5</td>\n",
              "      <td>5</td>\n",
              "      <td>0</td>\n",
              "      <td>5</td>\n",
              "      <td>1</td>\n",
              "    </tr>\n",
              "    <tr>\n",
              "      <th>193</th>\n",
              "      <td>76</td>\n",
              "      <td>0</td>\n",
              "      <td>1</td>\n",
              "      <td>1</td>\n",
              "      <td>0</td>\n",
              "      <td>2</td>\n",
              "      <td>4.0</td>\n",
              "      <td>0</td>\n",
              "      <td>0</td>\n",
              "      <td>4</td>\n",
              "      <td>...</td>\n",
              "      <td>0</td>\n",
              "      <td>0</td>\n",
              "      <td>0</td>\n",
              "      <td>0</td>\n",
              "      <td>0</td>\n",
              "      <td>0</td>\n",
              "      <td>0</td>\n",
              "      <td>0</td>\n",
              "      <td>0</td>\n",
              "      <td>1</td>\n",
              "    </tr>\n",
              "    <tr>\n",
              "      <th>194</th>\n",
              "      <td>62</td>\n",
              "      <td>1</td>\n",
              "      <td>0</td>\n",
              "      <td>1</td>\n",
              "      <td>0</td>\n",
              "      <td>1</td>\n",
              "      <td>4.1</td>\n",
              "      <td>0</td>\n",
              "      <td>0</td>\n",
              "      <td>6</td>\n",
              "      <td>...</td>\n",
              "      <td>10</td>\n",
              "      <td>10</td>\n",
              "      <td>5</td>\n",
              "      <td>5</td>\n",
              "      <td>0</td>\n",
              "      <td>5</td>\n",
              "      <td>5</td>\n",
              "      <td>5</td>\n",
              "      <td>5</td>\n",
              "      <td>1</td>\n",
              "    </tr>\n",
              "    <tr>\n",
              "      <th>195</th>\n",
              "      <td>83</td>\n",
              "      <td>0</td>\n",
              "      <td>0</td>\n",
              "      <td>0</td>\n",
              "      <td>0</td>\n",
              "      <td>1</td>\n",
              "      <td>3.7</td>\n",
              "      <td>0</td>\n",
              "      <td>0</td>\n",
              "      <td>10</td>\n",
              "      <td>...</td>\n",
              "      <td>10</td>\n",
              "      <td>10</td>\n",
              "      <td>5</td>\n",
              "      <td>5</td>\n",
              "      <td>0</td>\n",
              "      <td>0</td>\n",
              "      <td>5</td>\n",
              "      <td>10</td>\n",
              "      <td>10</td>\n",
              "      <td>1</td>\n",
              "    </tr>\n",
              "    <tr>\n",
              "      <th>196</th>\n",
              "      <td>51</td>\n",
              "      <td>1</td>\n",
              "      <td>0</td>\n",
              "      <td>1</td>\n",
              "      <td>0</td>\n",
              "      <td>2</td>\n",
              "      <td>3.4</td>\n",
              "      <td>0</td>\n",
              "      <td>0</td>\n",
              "      <td>2</td>\n",
              "      <td>...</td>\n",
              "      <td>10</td>\n",
              "      <td>10</td>\n",
              "      <td>5</td>\n",
              "      <td>5</td>\n",
              "      <td>0</td>\n",
              "      <td>5</td>\n",
              "      <td>5</td>\n",
              "      <td>5</td>\n",
              "      <td>5</td>\n",
              "      <td>1</td>\n",
              "    </tr>\n",
              "  </tbody>\n",
              "</table>\n",
              "<p>197 rows × 48 columns</p>\n",
              "</div>\n",
              "      <button class=\"colab-df-convert\" onclick=\"convertToInteractive('df-01d2fa58-368b-45cc-9fd4-3f5da0d009c8')\"\n",
              "              title=\"Convert this dataframe to an interactive table.\"\n",
              "              style=\"display:none;\">\n",
              "        \n",
              "  <svg xmlns=\"http://www.w3.org/2000/svg\" height=\"24px\"viewBox=\"0 0 24 24\"\n",
              "       width=\"24px\">\n",
              "    <path d=\"M0 0h24v24H0V0z\" fill=\"none\"/>\n",
              "    <path d=\"M18.56 5.44l.94 2.06.94-2.06 2.06-.94-2.06-.94-.94-2.06-.94 2.06-2.06.94zm-11 1L8.5 8.5l.94-2.06 2.06-.94-2.06-.94L8.5 2.5l-.94 2.06-2.06.94zm10 10l.94 2.06.94-2.06 2.06-.94-2.06-.94-.94-2.06-.94 2.06-2.06.94z\"/><path d=\"M17.41 7.96l-1.37-1.37c-.4-.4-.92-.59-1.43-.59-.52 0-1.04.2-1.43.59L10.3 9.45l-7.72 7.72c-.78.78-.78 2.05 0 2.83L4 21.41c.39.39.9.59 1.41.59.51 0 1.02-.2 1.41-.59l7.78-7.78 2.81-2.81c.8-.78.8-2.07 0-2.86zM5.41 20L4 18.59l7.72-7.72 1.47 1.35L5.41 20z\"/>\n",
              "  </svg>\n",
              "      </button>\n",
              "      \n",
              "  <style>\n",
              "    .colab-df-container {\n",
              "      display:flex;\n",
              "      flex-wrap:wrap;\n",
              "      gap: 12px;\n",
              "    }\n",
              "\n",
              "    .colab-df-convert {\n",
              "      background-color: #E8F0FE;\n",
              "      border: none;\n",
              "      border-radius: 50%;\n",
              "      cursor: pointer;\n",
              "      display: none;\n",
              "      fill: #1967D2;\n",
              "      height: 32px;\n",
              "      padding: 0 0 0 0;\n",
              "      width: 32px;\n",
              "    }\n",
              "\n",
              "    .colab-df-convert:hover {\n",
              "      background-color: #E2EBFA;\n",
              "      box-shadow: 0px 1px 2px rgba(60, 64, 67, 0.3), 0px 1px 3px 1px rgba(60, 64, 67, 0.15);\n",
              "      fill: #174EA6;\n",
              "    }\n",
              "\n",
              "    [theme=dark] .colab-df-convert {\n",
              "      background-color: #3B4455;\n",
              "      fill: #D2E3FC;\n",
              "    }\n",
              "\n",
              "    [theme=dark] .colab-df-convert:hover {\n",
              "      background-color: #434B5C;\n",
              "      box-shadow: 0px 1px 3px 1px rgba(0, 0, 0, 0.15);\n",
              "      filter: drop-shadow(0px 1px 2px rgba(0, 0, 0, 0.3));\n",
              "      fill: #FFFFFF;\n",
              "    }\n",
              "  </style>\n",
              "\n",
              "      <script>\n",
              "        const buttonEl =\n",
              "          document.querySelector('#df-01d2fa58-368b-45cc-9fd4-3f5da0d009c8 button.colab-df-convert');\n",
              "        buttonEl.style.display =\n",
              "          google.colab.kernel.accessAllowed ? 'block' : 'none';\n",
              "\n",
              "        async function convertToInteractive(key) {\n",
              "          const element = document.querySelector('#df-01d2fa58-368b-45cc-9fd4-3f5da0d009c8');\n",
              "          const dataTable =\n",
              "            await google.colab.kernel.invokeFunction('convertToInteractive',\n",
              "                                                     [key], {});\n",
              "          if (!dataTable) return;\n",
              "\n",
              "          const docLinkHtml = 'Like what you see? Visit the ' +\n",
              "            '<a target=\"_blank\" href=https://colab.research.google.com/notebooks/data_table.ipynb>data table notebook</a>'\n",
              "            + ' to learn more about interactive tables.';\n",
              "          element.innerHTML = '';\n",
              "          dataTable['output_type'] = 'display_data';\n",
              "          await google.colab.output.renderOutput(dataTable, element);\n",
              "          const docLink = document.createElement('div');\n",
              "          docLink.innerHTML = docLinkHtml;\n",
              "          element.appendChild(docLink);\n",
              "        }\n",
              "      </script>\n",
              "    </div>\n",
              "  </div>\n",
              "  "
            ]
          },
          "metadata": {},
          "execution_count": 100
        }
      ]
    },
    {
      "cell_type": "code",
      "source": [
        "type(dataset)"
      ],
      "metadata": {
        "colab": {
          "base_uri": "https://localhost:8080/"
        },
        "id": "tC2A6asif28B",
        "outputId": "9716c1ae-cba5-4a07-ece4-119b00286572"
      },
      "execution_count": null,
      "outputs": [
        {
          "output_type": "execute_result",
          "data": {
            "text/plain": [
              "pandas.core.frame.DataFrame"
            ]
          },
          "metadata": {},
          "execution_count": 101
        }
      ]
    },
    {
      "cell_type": "code",
      "source": [
        "print(dataset.columns)"
      ],
      "metadata": {
        "colab": {
          "base_uri": "https://localhost:8080/"
        },
        "id": "9wjcD-bOPLxm",
        "outputId": "17b0b973-2fa6-4617-f8c2-2c2ab8cc009a"
      },
      "execution_count": null,
      "outputs": [
        {
          "output_type": "stream",
          "name": "stdout",
          "text": [
            "Index(['year', 'sex1:male,0:female', 'before mRS', 'damage side:right1 left0',\n",
            "       'disease_infarction_hemorrhage ', 'Period_of_ impaired consciousness',\n",
            "       'ALB', 'medical_history(stroke)', 'complications',\n",
            "       'start_date_of_mobilization', 'con level', 'con_question',\n",
            "       'con_obedience', 'gaze', 'field_of_view', 'facial_paralysis',\n",
            "       'no_para_upper', 'no_para_low', 'ataxia', 'sensory', 'language',\n",
            "       'articulation', 'neglect', 'BRSupper', 'BRSfinger', 'BRS_low',\n",
            "       'ABMS2_turn_over', 'ABMS2_get_up', 'ABMS2_sit', 'ABMS2_rise_up',\n",
            "       'ABMS2_standing', 'sit_posture', 'sit_extension', 'sit_resistance',\n",
            "       'stand_posture', 'stand_extension', 'stand_resistance', 'FAC',\n",
            "       'BI_feeding', 'BI_transfer', 'BI_glooming', 'BI_toilet_use',\n",
            "       'BI_bathing', 'BI_stairs', 'BI_dressing', 'BI_bowels', 'BI_bladder',\n",
            "       'target'],\n",
            "      dtype='object')\n"
          ]
        }
      ]
    },
    {
      "cell_type": "code",
      "source": [
        "dataset.describe()"
      ],
      "metadata": {
        "colab": {
          "base_uri": "https://localhost:8080/",
          "height": 428
        },
        "id": "b0dLqb_hIZdk",
        "outputId": "f99a683b-d55e-4e4e-e8e8-373f5d387e2c"
      },
      "execution_count": null,
      "outputs": [
        {
          "output_type": "execute_result",
          "data": {
            "text/plain": [
              "             year  sex1:male,0:female  before mRS  damage side:right1 left0  \\\n",
              "count  197.000000          197.000000  197.000000                197.000000   \n",
              "mean    69.644670            0.675127    0.335025                  0.532995   \n",
              "std     12.576932            0.469521    0.669634                  0.500181   \n",
              "min     33.000000            0.000000    0.000000                  0.000000   \n",
              "25%     62.000000            0.000000    0.000000                  0.000000   \n",
              "50%     72.000000            1.000000    0.000000                  1.000000   \n",
              "75%     79.000000            1.000000    0.000000                  1.000000   \n",
              "max     99.000000            1.000000    2.000000                  1.000000   \n",
              "\n",
              "       disease_infarction_hemorrhage   Period_of_ impaired consciousness  \\\n",
              "count                      197.000000                         197.000000   \n",
              "mean                         0.614213                           1.406091   \n",
              "std                          0.488021                           2.897494   \n",
              "min                          0.000000                           0.000000   \n",
              "25%                          0.000000                           0.000000   \n",
              "50%                          1.000000                           1.000000   \n",
              "75%                          1.000000                           1.000000   \n",
              "max                          1.000000                          27.000000   \n",
              "\n",
              "              ALB  medical_history(stroke)  complications  \\\n",
              "count  197.000000               197.000000     197.000000   \n",
              "mean     4.105584                 0.203046       0.101523   \n",
              "std      0.544377                 0.403291       0.302789   \n",
              "min      2.300000                 0.000000       0.000000   \n",
              "25%      3.800000                 0.000000       0.000000   \n",
              "50%      4.100000                 0.000000       0.000000   \n",
              "75%      4.400000                 0.000000       0.000000   \n",
              "max      7.500000                 1.000000       1.000000   \n",
              "\n",
              "       start_date_of_mobilization  ...  BI_feeding  BI_transfer  BI_glooming  \\\n",
              "count                  197.000000  ...  197.000000   197.000000   197.000000   \n",
              "mean                     3.588832  ...    5.736041     7.030457     1.548223   \n",
              "std                      2.327405  ...    4.296578     4.811666     2.317625   \n",
              "min                      1.000000  ...    0.000000     0.000000     0.000000   \n",
              "25%                      2.000000  ...    0.000000     5.000000     0.000000   \n",
              "50%                      3.000000  ...    5.000000    10.000000     0.000000   \n",
              "75%                      4.000000  ...   10.000000    10.000000     5.000000   \n",
              "max                     20.000000  ...   10.000000    15.000000     5.000000   \n",
              "\n",
              "       BI_toilet_use  BI_bathing   BI_stairs  BI_dressing   BI_bowels  \\\n",
              "count     197.000000  197.000000  197.000000   197.000000  197.000000   \n",
              "mean        4.137056    0.101523    0.583756     3.502538    5.329949   \n",
              "std         3.679299    0.706997    1.900414     3.523427    4.547680   \n",
              "min         0.000000    0.000000    0.000000     0.000000    0.000000   \n",
              "25%         0.000000    0.000000    0.000000     0.000000    0.000000   \n",
              "50%         5.000000    0.000000    0.000000     5.000000    5.000000   \n",
              "75%         5.000000    0.000000    0.000000     5.000000   10.000000   \n",
              "max        10.000000    5.000000   10.000000    10.000000   10.000000   \n",
              "\n",
              "       BI_bladder      target  \n",
              "count  197.000000  197.000000  \n",
              "mean     5.228426    0.654822  \n",
              "std      4.553940    0.476637  \n",
              "min      0.000000    0.000000  \n",
              "25%      0.000000    0.000000  \n",
              "50%      5.000000    1.000000  \n",
              "75%     10.000000    1.000000  \n",
              "max     10.000000    1.000000  \n",
              "\n",
              "[8 rows x 48 columns]"
            ],
            "text/html": [
              "\n",
              "  <div id=\"df-786041c5-9695-4c58-b879-8bd2b2bc8bcb\">\n",
              "    <div class=\"colab-df-container\">\n",
              "      <div>\n",
              "<style scoped>\n",
              "    .dataframe tbody tr th:only-of-type {\n",
              "        vertical-align: middle;\n",
              "    }\n",
              "\n",
              "    .dataframe tbody tr th {\n",
              "        vertical-align: top;\n",
              "    }\n",
              "\n",
              "    .dataframe thead th {\n",
              "        text-align: right;\n",
              "    }\n",
              "</style>\n",
              "<table border=\"1\" class=\"dataframe\">\n",
              "  <thead>\n",
              "    <tr style=\"text-align: right;\">\n",
              "      <th></th>\n",
              "      <th>year</th>\n",
              "      <th>sex1:male,0:female</th>\n",
              "      <th>before mRS</th>\n",
              "      <th>damage side:right1 left0</th>\n",
              "      <th>disease_infarction_hemorrhage</th>\n",
              "      <th>Period_of_ impaired consciousness</th>\n",
              "      <th>ALB</th>\n",
              "      <th>medical_history(stroke)</th>\n",
              "      <th>complications</th>\n",
              "      <th>start_date_of_mobilization</th>\n",
              "      <th>...</th>\n",
              "      <th>BI_feeding</th>\n",
              "      <th>BI_transfer</th>\n",
              "      <th>BI_glooming</th>\n",
              "      <th>BI_toilet_use</th>\n",
              "      <th>BI_bathing</th>\n",
              "      <th>BI_stairs</th>\n",
              "      <th>BI_dressing</th>\n",
              "      <th>BI_bowels</th>\n",
              "      <th>BI_bladder</th>\n",
              "      <th>target</th>\n",
              "    </tr>\n",
              "  </thead>\n",
              "  <tbody>\n",
              "    <tr>\n",
              "      <th>count</th>\n",
              "      <td>197.000000</td>\n",
              "      <td>197.000000</td>\n",
              "      <td>197.000000</td>\n",
              "      <td>197.000000</td>\n",
              "      <td>197.000000</td>\n",
              "      <td>197.000000</td>\n",
              "      <td>197.000000</td>\n",
              "      <td>197.000000</td>\n",
              "      <td>197.000000</td>\n",
              "      <td>197.000000</td>\n",
              "      <td>...</td>\n",
              "      <td>197.000000</td>\n",
              "      <td>197.000000</td>\n",
              "      <td>197.000000</td>\n",
              "      <td>197.000000</td>\n",
              "      <td>197.000000</td>\n",
              "      <td>197.000000</td>\n",
              "      <td>197.000000</td>\n",
              "      <td>197.000000</td>\n",
              "      <td>197.000000</td>\n",
              "      <td>197.000000</td>\n",
              "    </tr>\n",
              "    <tr>\n",
              "      <th>mean</th>\n",
              "      <td>69.644670</td>\n",
              "      <td>0.675127</td>\n",
              "      <td>0.335025</td>\n",
              "      <td>0.532995</td>\n",
              "      <td>0.614213</td>\n",
              "      <td>1.406091</td>\n",
              "      <td>4.105584</td>\n",
              "      <td>0.203046</td>\n",
              "      <td>0.101523</td>\n",
              "      <td>3.588832</td>\n",
              "      <td>...</td>\n",
              "      <td>5.736041</td>\n",
              "      <td>7.030457</td>\n",
              "      <td>1.548223</td>\n",
              "      <td>4.137056</td>\n",
              "      <td>0.101523</td>\n",
              "      <td>0.583756</td>\n",
              "      <td>3.502538</td>\n",
              "      <td>5.329949</td>\n",
              "      <td>5.228426</td>\n",
              "      <td>0.654822</td>\n",
              "    </tr>\n",
              "    <tr>\n",
              "      <th>std</th>\n",
              "      <td>12.576932</td>\n",
              "      <td>0.469521</td>\n",
              "      <td>0.669634</td>\n",
              "      <td>0.500181</td>\n",
              "      <td>0.488021</td>\n",
              "      <td>2.897494</td>\n",
              "      <td>0.544377</td>\n",
              "      <td>0.403291</td>\n",
              "      <td>0.302789</td>\n",
              "      <td>2.327405</td>\n",
              "      <td>...</td>\n",
              "      <td>4.296578</td>\n",
              "      <td>4.811666</td>\n",
              "      <td>2.317625</td>\n",
              "      <td>3.679299</td>\n",
              "      <td>0.706997</td>\n",
              "      <td>1.900414</td>\n",
              "      <td>3.523427</td>\n",
              "      <td>4.547680</td>\n",
              "      <td>4.553940</td>\n",
              "      <td>0.476637</td>\n",
              "    </tr>\n",
              "    <tr>\n",
              "      <th>min</th>\n",
              "      <td>33.000000</td>\n",
              "      <td>0.000000</td>\n",
              "      <td>0.000000</td>\n",
              "      <td>0.000000</td>\n",
              "      <td>0.000000</td>\n",
              "      <td>0.000000</td>\n",
              "      <td>2.300000</td>\n",
              "      <td>0.000000</td>\n",
              "      <td>0.000000</td>\n",
              "      <td>1.000000</td>\n",
              "      <td>...</td>\n",
              "      <td>0.000000</td>\n",
              "      <td>0.000000</td>\n",
              "      <td>0.000000</td>\n",
              "      <td>0.000000</td>\n",
              "      <td>0.000000</td>\n",
              "      <td>0.000000</td>\n",
              "      <td>0.000000</td>\n",
              "      <td>0.000000</td>\n",
              "      <td>0.000000</td>\n",
              "      <td>0.000000</td>\n",
              "    </tr>\n",
              "    <tr>\n",
              "      <th>25%</th>\n",
              "      <td>62.000000</td>\n",
              "      <td>0.000000</td>\n",
              "      <td>0.000000</td>\n",
              "      <td>0.000000</td>\n",
              "      <td>0.000000</td>\n",
              "      <td>0.000000</td>\n",
              "      <td>3.800000</td>\n",
              "      <td>0.000000</td>\n",
              "      <td>0.000000</td>\n",
              "      <td>2.000000</td>\n",
              "      <td>...</td>\n",
              "      <td>0.000000</td>\n",
              "      <td>5.000000</td>\n",
              "      <td>0.000000</td>\n",
              "      <td>0.000000</td>\n",
              "      <td>0.000000</td>\n",
              "      <td>0.000000</td>\n",
              "      <td>0.000000</td>\n",
              "      <td>0.000000</td>\n",
              "      <td>0.000000</td>\n",
              "      <td>0.000000</td>\n",
              "    </tr>\n",
              "    <tr>\n",
              "      <th>50%</th>\n",
              "      <td>72.000000</td>\n",
              "      <td>1.000000</td>\n",
              "      <td>0.000000</td>\n",
              "      <td>1.000000</td>\n",
              "      <td>1.000000</td>\n",
              "      <td>1.000000</td>\n",
              "      <td>4.100000</td>\n",
              "      <td>0.000000</td>\n",
              "      <td>0.000000</td>\n",
              "      <td>3.000000</td>\n",
              "      <td>...</td>\n",
              "      <td>5.000000</td>\n",
              "      <td>10.000000</td>\n",
              "      <td>0.000000</td>\n",
              "      <td>5.000000</td>\n",
              "      <td>0.000000</td>\n",
              "      <td>0.000000</td>\n",
              "      <td>5.000000</td>\n",
              "      <td>5.000000</td>\n",
              "      <td>5.000000</td>\n",
              "      <td>1.000000</td>\n",
              "    </tr>\n",
              "    <tr>\n",
              "      <th>75%</th>\n",
              "      <td>79.000000</td>\n",
              "      <td>1.000000</td>\n",
              "      <td>0.000000</td>\n",
              "      <td>1.000000</td>\n",
              "      <td>1.000000</td>\n",
              "      <td>1.000000</td>\n",
              "      <td>4.400000</td>\n",
              "      <td>0.000000</td>\n",
              "      <td>0.000000</td>\n",
              "      <td>4.000000</td>\n",
              "      <td>...</td>\n",
              "      <td>10.000000</td>\n",
              "      <td>10.000000</td>\n",
              "      <td>5.000000</td>\n",
              "      <td>5.000000</td>\n",
              "      <td>0.000000</td>\n",
              "      <td>0.000000</td>\n",
              "      <td>5.000000</td>\n",
              "      <td>10.000000</td>\n",
              "      <td>10.000000</td>\n",
              "      <td>1.000000</td>\n",
              "    </tr>\n",
              "    <tr>\n",
              "      <th>max</th>\n",
              "      <td>99.000000</td>\n",
              "      <td>1.000000</td>\n",
              "      <td>2.000000</td>\n",
              "      <td>1.000000</td>\n",
              "      <td>1.000000</td>\n",
              "      <td>27.000000</td>\n",
              "      <td>7.500000</td>\n",
              "      <td>1.000000</td>\n",
              "      <td>1.000000</td>\n",
              "      <td>20.000000</td>\n",
              "      <td>...</td>\n",
              "      <td>10.000000</td>\n",
              "      <td>15.000000</td>\n",
              "      <td>5.000000</td>\n",
              "      <td>10.000000</td>\n",
              "      <td>5.000000</td>\n",
              "      <td>10.000000</td>\n",
              "      <td>10.000000</td>\n",
              "      <td>10.000000</td>\n",
              "      <td>10.000000</td>\n",
              "      <td>1.000000</td>\n",
              "    </tr>\n",
              "  </tbody>\n",
              "</table>\n",
              "<p>8 rows × 48 columns</p>\n",
              "</div>\n",
              "      <button class=\"colab-df-convert\" onclick=\"convertToInteractive('df-786041c5-9695-4c58-b879-8bd2b2bc8bcb')\"\n",
              "              title=\"Convert this dataframe to an interactive table.\"\n",
              "              style=\"display:none;\">\n",
              "        \n",
              "  <svg xmlns=\"http://www.w3.org/2000/svg\" height=\"24px\"viewBox=\"0 0 24 24\"\n",
              "       width=\"24px\">\n",
              "    <path d=\"M0 0h24v24H0V0z\" fill=\"none\"/>\n",
              "    <path d=\"M18.56 5.44l.94 2.06.94-2.06 2.06-.94-2.06-.94-.94-2.06-.94 2.06-2.06.94zm-11 1L8.5 8.5l.94-2.06 2.06-.94-2.06-.94L8.5 2.5l-.94 2.06-2.06.94zm10 10l.94 2.06.94-2.06 2.06-.94-2.06-.94-.94-2.06-.94 2.06-2.06.94z\"/><path d=\"M17.41 7.96l-1.37-1.37c-.4-.4-.92-.59-1.43-.59-.52 0-1.04.2-1.43.59L10.3 9.45l-7.72 7.72c-.78.78-.78 2.05 0 2.83L4 21.41c.39.39.9.59 1.41.59.51 0 1.02-.2 1.41-.59l7.78-7.78 2.81-2.81c.8-.78.8-2.07 0-2.86zM5.41 20L4 18.59l7.72-7.72 1.47 1.35L5.41 20z\"/>\n",
              "  </svg>\n",
              "      </button>\n",
              "      \n",
              "  <style>\n",
              "    .colab-df-container {\n",
              "      display:flex;\n",
              "      flex-wrap:wrap;\n",
              "      gap: 12px;\n",
              "    }\n",
              "\n",
              "    .colab-df-convert {\n",
              "      background-color: #E8F0FE;\n",
              "      border: none;\n",
              "      border-radius: 50%;\n",
              "      cursor: pointer;\n",
              "      display: none;\n",
              "      fill: #1967D2;\n",
              "      height: 32px;\n",
              "      padding: 0 0 0 0;\n",
              "      width: 32px;\n",
              "    }\n",
              "\n",
              "    .colab-df-convert:hover {\n",
              "      background-color: #E2EBFA;\n",
              "      box-shadow: 0px 1px 2px rgba(60, 64, 67, 0.3), 0px 1px 3px 1px rgba(60, 64, 67, 0.15);\n",
              "      fill: #174EA6;\n",
              "    }\n",
              "\n",
              "    [theme=dark] .colab-df-convert {\n",
              "      background-color: #3B4455;\n",
              "      fill: #D2E3FC;\n",
              "    }\n",
              "\n",
              "    [theme=dark] .colab-df-convert:hover {\n",
              "      background-color: #434B5C;\n",
              "      box-shadow: 0px 1px 3px 1px rgba(0, 0, 0, 0.15);\n",
              "      filter: drop-shadow(0px 1px 2px rgba(0, 0, 0, 0.3));\n",
              "      fill: #FFFFFF;\n",
              "    }\n",
              "  </style>\n",
              "\n",
              "      <script>\n",
              "        const buttonEl =\n",
              "          document.querySelector('#df-786041c5-9695-4c58-b879-8bd2b2bc8bcb button.colab-df-convert');\n",
              "        buttonEl.style.display =\n",
              "          google.colab.kernel.accessAllowed ? 'block' : 'none';\n",
              "\n",
              "        async function convertToInteractive(key) {\n",
              "          const element = document.querySelector('#df-786041c5-9695-4c58-b879-8bd2b2bc8bcb');\n",
              "          const dataTable =\n",
              "            await google.colab.kernel.invokeFunction('convertToInteractive',\n",
              "                                                     [key], {});\n",
              "          if (!dataTable) return;\n",
              "\n",
              "          const docLinkHtml = 'Like what you see? Visit the ' +\n",
              "            '<a target=\"_blank\" href=https://colab.research.google.com/notebooks/data_table.ipynb>data table notebook</a>'\n",
              "            + ' to learn more about interactive tables.';\n",
              "          element.innerHTML = '';\n",
              "          dataTable['output_type'] = 'display_data';\n",
              "          await google.colab.output.renderOutput(dataTable, element);\n",
              "          const docLink = document.createElement('div');\n",
              "          docLink.innerHTML = docLinkHtml;\n",
              "          element.appendChild(docLink);\n",
              "        }\n",
              "      </script>\n",
              "    </div>\n",
              "  </div>\n",
              "  "
            ]
          },
          "metadata": {},
          "execution_count": 103
        }
      ]
    },
    {
      "cell_type": "code",
      "source": [
        "X_train = dataset.drop('target',axis = 1)\n",
        "y_train = dataset['target'].copy()\n",
        "X_test = dataset2.drop('target',axis = 1)\n",
        "y_test = dataset2['target'].copy()"
      ],
      "metadata": {
        "id": "L12KnFMm5AEE"
      },
      "execution_count": null,
      "outputs": []
    },
    {
      "cell_type": "code",
      "source": [
        "print(X_train.columns)"
      ],
      "metadata": {
        "colab": {
          "base_uri": "https://localhost:8080/"
        },
        "id": "MtG_jQE5Pjzn",
        "outputId": "74b14692-62d7-40af-e144-ec2178b4bfa1"
      },
      "execution_count": null,
      "outputs": [
        {
          "output_type": "stream",
          "name": "stdout",
          "text": [
            "Index(['year', 'sex1:male,0:female', 'before mRS', 'damage side:right1 left0',\n",
            "       'disease_infarction_hemorrhage ', 'Period_of_ impaired consciousness',\n",
            "       'ALB', 'medical_history(stroke)', 'complications',\n",
            "       'start_date_of_mobilization', 'con level', 'con_question',\n",
            "       'con_obedience', 'gaze', 'field_of_view', 'facial_paralysis',\n",
            "       'no_para_upper', 'no_para_low', 'ataxia', 'sensory', 'language',\n",
            "       'articulation', 'neglect', 'BRSupper', 'BRSfinger', 'BRS_low',\n",
            "       'ABMS2_turn_over', 'ABMS2_get_up', 'ABMS2_sit', 'ABMS2_rise_up',\n",
            "       'ABMS2_standing', 'sit_posture', 'sit_extension', 'sit_resistance',\n",
            "       'stand_posture', 'stand_extension', 'stand_resistance', 'FAC',\n",
            "       'BI_feeding', 'BI_transfer', 'BI_glooming', 'BI_toilet_use',\n",
            "       'BI_bathing', 'BI_stairs', 'BI_dressing', 'BI_bowels', 'BI_bladder'],\n",
            "      dtype='object')\n"
          ]
        }
      ]
    },
    {
      "cell_type": "code",
      "source": [
        "print(dataset.target)"
      ],
      "metadata": {
        "colab": {
          "base_uri": "https://localhost:8080/"
        },
        "id": "IsGy6PId8Kqa",
        "outputId": "aa72d00f-2b92-44c9-cc98-c208a482070f"
      },
      "execution_count": null,
      "outputs": [
        {
          "output_type": "stream",
          "name": "stdout",
          "text": [
            "0      1\n",
            "1      0\n",
            "2      1\n",
            "3      1\n",
            "4      0\n",
            "      ..\n",
            "192    1\n",
            "193    1\n",
            "194    1\n",
            "195    1\n",
            "196    1\n",
            "Name: target, Length: 197, dtype: int64\n"
          ]
        }
      ]
    },
    {
      "cell_type": "code",
      "source": [
        "print(dataset.shape)\n",
        "print(dataset2.shape)"
      ],
      "metadata": {
        "colab": {
          "base_uri": "https://localhost:8080/"
        },
        "id": "Yoz3Us1a-oo6",
        "outputId": "a84522ac-8ef2-4180-e22c-33b7351a9102"
      },
      "execution_count": null,
      "outputs": [
        {
          "output_type": "stream",
          "name": "stdout",
          "text": [
            "(197, 48)\n",
            "(49, 48)\n"
          ]
        }
      ]
    },
    {
      "cell_type": "code",
      "source": [
        "dataset.isnull().sum()"
      ],
      "metadata": {
        "id": "ye9f_VrG-6yu",
        "colab": {
          "base_uri": "https://localhost:8080/"
        },
        "outputId": "ed638410-7e65-408c-b106-d6f21b7d42ab"
      },
      "execution_count": null,
      "outputs": [
        {
          "output_type": "execute_result",
          "data": {
            "text/plain": [
              "year                                 0\n",
              "sex1:male,0:female                   0\n",
              "before mRS                           0\n",
              "damage side:right1 left0             0\n",
              "disease_infarction_hemorrhage        0\n",
              "Period_of_ impaired consciousness    0\n",
              "ALB                                  0\n",
              "medical_history(stroke)              0\n",
              "complications                        0\n",
              "start_date_of_mobilization           0\n",
              "con level                            0\n",
              "con_question                         0\n",
              "con_obedience                        0\n",
              "gaze                                 0\n",
              "field_of_view                        0\n",
              "facial_paralysis                     0\n",
              "no_para_upper                        0\n",
              "no_para_low                          0\n",
              "ataxia                               0\n",
              "sensory                              0\n",
              "language                             0\n",
              "articulation                         0\n",
              "neglect                              0\n",
              "BRSupper                             0\n",
              "BRSfinger                            0\n",
              "BRS_low                              0\n",
              "ABMS2_turn_over                      0\n",
              "ABMS2_get_up                         0\n",
              "ABMS2_sit                            0\n",
              "ABMS2_rise_up                        0\n",
              "ABMS2_standing                       0\n",
              "sit_posture                          0\n",
              "sit_extension                        0\n",
              "sit_resistance                       0\n",
              "stand_posture                        0\n",
              "stand_extension                      0\n",
              "stand_resistance                     0\n",
              "FAC                                  0\n",
              "BI_feeding                           0\n",
              "BI_transfer                          0\n",
              "BI_glooming                          0\n",
              "BI_toilet_use                        0\n",
              "BI_bathing                           0\n",
              "BI_stairs                            0\n",
              "BI_dressing                          0\n",
              "BI_bowels                            0\n",
              "BI_bladder                           0\n",
              "target                               0\n",
              "dtype: int64"
            ]
          },
          "metadata": {},
          "execution_count": 108
        }
      ]
    },
    {
      "cell_type": "code",
      "source": [
        "#データフレーム形式からNumpy配列へ変換\n",
        "#X_train = X_train.values\n",
        "#y_train = y_train.values\n",
        "#X_test = X_test.values\n",
        "#y_test = y_test.values"
      ],
      "metadata": {
        "id": "LTIykxz-4v6i"
      },
      "execution_count": null,
      "outputs": []
    },
    {
      "cell_type": "code",
      "source": [
        "#訓練モデル\n",
        "xgboost_model = XGBClassifier()\n",
        "xgboost_model.fit(X_train,y_train)"
      ],
      "metadata": {
        "colab": {
          "base_uri": "https://localhost:8080/"
        },
        "id": "CWJGy0wiBBzp",
        "outputId": "5da4dc0b-6cf3-434c-b0a6-170b7736a892"
      },
      "execution_count": null,
      "outputs": [
        {
          "output_type": "execute_result",
          "data": {
            "text/plain": [
              "XGBClassifier()"
            ]
          },
          "metadata": {},
          "execution_count": 110
        }
      ]
    },
    {
      "cell_type": "code",
      "source": [
        "#訓練モデルの予測\n",
        "y_pred = xgboost_model.predict(X_train)\n",
        "print(y_pred)"
      ],
      "metadata": {
        "colab": {
          "base_uri": "https://localhost:8080/"
        },
        "id": "fD424c47Bk8u",
        "outputId": "b172a460-ac32-4ae2-ccea-212b0b618180"
      },
      "execution_count": null,
      "outputs": [
        {
          "output_type": "stream",
          "name": "stdout",
          "text": [
            "[1 0 1 1 0 0 1 0 1 1 0 1 1 1 1 1 1 0 1 0 0 1 0 1 1 0 1 1 1 1 1 1 1 0 1 1 1\n",
            " 1 0 1 1 1 1 1 1 1 1 0 0 0 0 1 1 1 0 0 1 1 1 1 1 1 1 1 1 1 1 0 1 1 1 1 1 1\n",
            " 0 0 1 1 1 1 1 1 0 0 0 0 0 1 0 0 1 1 1 1 1 1 1 1 1 1 1 0 0 1 1 1 1 1 1 1 0\n",
            " 0 0 1 1 1 0 0 0 1 1 1 1 0 1 1 0 1 0 1 1 0 1 1 0 1 0 0 0 0 0 0 1 1 1 1 1 1\n",
            " 1 0 0 1 1 1 0 0 0 1 1 1 1 0 0 1 0 1 1 1 1 1 0 1 0 0 0 1 1 0 1 1 0 0 0 0 0\n",
            " 0 1 1 0 1 0 0 1 1 1 1 1]\n"
          ]
        }
      ]
    },
    {
      "cell_type": "code",
      "source": [
        "#デフォルト\n",
        "#n_estimators:100 max_depth:3～10　min_child_wheight:1 gamma:0 subsample: ccolsample_bytree:1 reg_alpha:0 reg_lambda:0 learning_rate:0.3"
      ],
      "metadata": {
        "id": "72kExkHyZ7yc"
      },
      "execution_count": null,
      "outputs": []
    },
    {
      "cell_type": "code",
      "source": [
        "confusion_matrix(y_train, y_pred,labels=[0,1])"
      ],
      "metadata": {
        "colab": {
          "base_uri": "https://localhost:8080/"
        },
        "id": "ZrqfXisQDqJj",
        "outputId": "754fa9cf-5761-4a4d-b616-e2ee4abe21bd"
      },
      "execution_count": null,
      "outputs": [
        {
          "output_type": "execute_result",
          "data": {
            "text/plain": [
              "array([[ 68,   0],\n",
              "       [  1, 128]])"
            ]
          },
          "metadata": {},
          "execution_count": 113
        }
      ]
    },
    {
      "cell_type": "code",
      "source": [
        "accuracy_score(y_train,y_pred)"
      ],
      "metadata": {
        "colab": {
          "base_uri": "https://localhost:8080/"
        },
        "id": "NRz1ySJSD-lJ",
        "outputId": "fb9add8c-095e-46ce-cab5-7a16e3d1dfb7"
      },
      "execution_count": null,
      "outputs": [
        {
          "output_type": "execute_result",
          "data": {
            "text/plain": [
              "0.9949238578680203"
            ]
          },
          "metadata": {},
          "execution_count": 114
        }
      ]
    },
    {
      "cell_type": "code",
      "source": [
        "y_pred2 = xgboost_model.predict(X_test)"
      ],
      "metadata": {
        "id": "38ZTY05DLykG"
      },
      "execution_count": null,
      "outputs": []
    },
    {
      "cell_type": "code",
      "source": [
        "confusion_matrix(y_test,y_pred2,labels=[0,1])"
      ],
      "metadata": {
        "colab": {
          "base_uri": "https://localhost:8080/"
        },
        "id": "_cjjEwnAL7Rw",
        "outputId": "b9ac2d11-d136-4071-b22e-3b273abfd25a"
      },
      "execution_count": null,
      "outputs": [
        {
          "output_type": "execute_result",
          "data": {
            "text/plain": [
              "array([[13,  4],\n",
              "       [ 2, 30]])"
            ]
          },
          "metadata": {},
          "execution_count": 116
        }
      ]
    },
    {
      "cell_type": "code",
      "source": [
        "accuracy_score(y_test,y_pred2)"
      ],
      "metadata": {
        "colab": {
          "base_uri": "https://localhost:8080/"
        },
        "id": "Q317FXaGMNea",
        "outputId": "56bdba44-cc8a-4e66-bbbc-8f128b6f0610"
      },
      "execution_count": null,
      "outputs": [
        {
          "output_type": "execute_result",
          "data": {
            "text/plain": [
              "0.8775510204081632"
            ]
          },
          "metadata": {},
          "execution_count": 117
        }
      ]
    },
    {
      "cell_type": "code",
      "source": [
        "#グリッドリサーチ後、ベストハイパーパラメータ\n",
        "final_params ={'n_estimators':100,'max_depth':2,'min_child_weight':10,'gamma':2.0,\n",
        "                 'colsample_bytree':0.9,'subsample':0.8,'reg_alpha':0.1,'reg_lambda':0,\n",
        "                 'learning_rate':0.1}"
      ],
      "metadata": {
        "id": "-xRm9FUd1MPV"
      },
      "execution_count": null,
      "outputs": []
    },
    {
      "cell_type": "code",
      "source": [
        "#XGBClassifierのデフォルト\n",
        "#n_estimators:100 max_depth:3～10　min_child_wheight:1 gamma:0 subsample: ccolsample_bytree:1 reg_alpha:0 reg_lambda:0 learning_rate:0.3"
      ],
      "metadata": {
        "id": "W1tqkjgYf5EH"
      },
      "execution_count": null,
      "outputs": []
    },
    {
      "cell_type": "code",
      "source": [
        "#最適化されたハイパーパラメータを使ってモデル訓練\n",
        "xgboost_opt = XGBClassifier(**final_params,seed=42)\n",
        "xgboost_opt.fit(X_train,y_train)"
      ],
      "metadata": {
        "colab": {
          "base_uri": "https://localhost:8080/"
        },
        "id": "CITOVFHYdptt",
        "outputId": "09c08b3d-be45-4441-be5b-b52563f53dac"
      },
      "execution_count": null,
      "outputs": [
        {
          "output_type": "execute_result",
          "data": {
            "text/plain": [
              "XGBClassifier(colsample_bytree=0.9, gamma=2.0, max_depth=2, min_child_weight=10,\n",
              "              reg_alpha=0.1, reg_lambda=0, seed=42, subsample=0.8)"
            ]
          },
          "metadata": {},
          "execution_count": 134
        }
      ]
    },
    {
      "cell_type": "code",
      "source": [
        "#訓練モデルの精度\n",
        "y_pred_opt = xgboost_opt.predict(X_train)"
      ],
      "metadata": {
        "id": "68FDAHnZehWO"
      },
      "execution_count": null,
      "outputs": []
    },
    {
      "cell_type": "code",
      "source": [
        "confusion_matrix(y_train, y_pred_opt,labels=[0,1])"
      ],
      "metadata": {
        "colab": {
          "base_uri": "https://localhost:8080/"
        },
        "id": "rcVNjfc1eyfG",
        "outputId": "10977cd3-9189-4153-dc26-4236e88dbc0d"
      },
      "execution_count": null,
      "outputs": [
        {
          "output_type": "execute_result",
          "data": {
            "text/plain": [
              "array([[ 53,  15],\n",
              "       [ 13, 116]])"
            ]
          },
          "metadata": {},
          "execution_count": 136
        }
      ]
    },
    {
      "cell_type": "code",
      "source": [
        "accuracy_score(y_train,y_pred_opt)"
      ],
      "metadata": {
        "colab": {
          "base_uri": "https://localhost:8080/"
        },
        "id": "FsBO56CdfS_A",
        "outputId": "c2ba4a93-85db-42c8-e84b-e4758d9b5671"
      },
      "execution_count": null,
      "outputs": [
        {
          "output_type": "execute_result",
          "data": {
            "text/plain": [
              "0.8578680203045685"
            ]
          },
          "metadata": {},
          "execution_count": 137
        }
      ]
    },
    {
      "cell_type": "code",
      "source": [
        "#訓練モデルの精度\n",
        "y_pred_opt2 = xgboost_opt.predict(X_test)"
      ],
      "metadata": {
        "id": "as5yppQfix1p"
      },
      "execution_count": null,
      "outputs": []
    },
    {
      "cell_type": "code",
      "source": [
        "confusion_matrix(y_test, y_pred_opt2,labels=[0,1])"
      ],
      "metadata": {
        "colab": {
          "base_uri": "https://localhost:8080/"
        },
        "id": "bPCjDvfWi7SR",
        "outputId": "fda8ba03-4997-446b-b5c0-32e7cc2d69fe"
      },
      "execution_count": null,
      "outputs": [
        {
          "output_type": "execute_result",
          "data": {
            "text/plain": [
              "array([[15,  2],\n",
              "       [ 2, 30]])"
            ]
          },
          "metadata": {},
          "execution_count": 139
        }
      ]
    },
    {
      "cell_type": "code",
      "source": [
        "accuracy_score(y_test,y_pred_opt2)"
      ],
      "metadata": {
        "colab": {
          "base_uri": "https://localhost:8080/"
        },
        "id": "s6I9R1SxjTxe",
        "outputId": "d028401d-47ca-4794-8423-20432dbd62db"
      },
      "execution_count": null,
      "outputs": [
        {
          "output_type": "execute_result",
          "data": {
            "text/plain": [
              "0.9183673469387755"
            ]
          },
          "metadata": {},
          "execution_count": 140
        }
      ]
    },
    {
      "cell_type": "code",
      "source": [
        "#ROC曲線\n",
        "from sklearn.metrics import roc_curve"
      ],
      "metadata": {
        "id": "XpL55AXvhbEZ"
      },
      "execution_count": null,
      "outputs": []
    },
    {
      "cell_type": "code",
      "source": [
        "fpr,tpr,thresholds = roc_curve(y_train,y_pred)\n",
        "plt.plot([0,1],[0,1],'k--')\n",
        "plt.plot(fpr,tpr,label='XGBoost Classifier')\n",
        "plt.xlabel('False Positive Rate')\n",
        "plt.ylabel('True Positive Rate')\n",
        "plt.title('ROC Curve')\n",
        "plt.show()"
      ],
      "metadata": {
        "id": "hp204zIws4Ig",
        "colab": {
          "base_uri": "https://localhost:8080/",
          "height": 295
        },
        "outputId": "a8a6cf89-8c05-45ea-ce01-abdd5777aab6"
      },
      "execution_count": null,
      "outputs": [
        {
          "output_type": "display_data",
          "data": {
            "text/plain": [
              "<Figure size 432x288 with 1 Axes>"
            ],
            "image/png": "[encoded data removed]"
          },
          "metadata": {
            "needs_background": "light"
          }
        }
      ]
    },
    {
      "cell_type": "code",
      "source": [
        "fpr,tpr,thresholds = roc_curve(y_test,y_pred2)\n",
        "plt.plot([0,1],[0,1],'k--')\n",
        "plt.plot(fpr,tpr,label='XGBoost Classifier')\n",
        "plt.xlabel('False Positive Rate')\n",
        "plt.ylabel('True Positive Rate')\n",
        "plt.title('ROC Curve')\n",
        "plt.show()"
      ],
      "metadata": {
        "id": "Cu4QWe2Yzml4",
        "colab": {
          "base_uri": "https://localhost:8080/",
          "height": 295
        },
        "outputId": "7d1101e7-95aa-4e1b-d89d-f57212570359"
      },
      "execution_count": null,
      "outputs": [
        {
          "output_type": "display_data",
          "data": {
            "text/plain": [
              "<Figure size 432x288 with 1 Axes>"
            ],
            "image/png": "[encoded data removed]"
          },
          "metadata": {
            "needs_background": "light"
          }
        }
      ]
    },
    {
      "cell_type": "code",
      "source": [
        "from sklearn.metrics import roc_auc_score\n",
        "from sklearn.model_selection import cross_val_score"
      ],
      "metadata": {
        "id": "AqTBr9-nuIxa"
      },
      "execution_count": null,
      "outputs": []
    },
    {
      "cell_type": "code",
      "source": [
        "#AUC\n",
        "print('AUC:{}'.format(roc_auc_score(y_train,y_pred)))\n",
        "print('AUC:{}'.format(roc_auc_score(y_test,y_pred2)))"
      ],
      "metadata": {
        "id": "YK0AeC6nuspc",
        "colab": {
          "base_uri": "https://localhost:8080/"
        },
        "outputId": "74c9f94a-53d9-4fc3-87eb-54deb6dfd6b0"
      },
      "execution_count": null,
      "outputs": [
        {
          "output_type": "stream",
          "name": "stdout",
          "text": [
            "AUC:0.9961240310077519\n",
            "AUC:0.8511029411764706\n"
          ]
        }
      ]
    },
    {
      "cell_type": "code",
      "source": [
        "confusion_matrix(y_test, y_pred2,labels=[0,1])"
      ],
      "metadata": {
        "colab": {
          "base_uri": "https://localhost:8080/"
        },
        "id": "texkRO_eWJwm",
        "outputId": "1eaf289b-44c8-45f9-80c3-0e1e0984d8e8"
      },
      "execution_count": null,
      "outputs": [
        {
          "output_type": "execute_result",
          "data": {
            "text/plain": [
              "array([[13,  4],\n",
              "       [ 2, 30]])"
            ]
          },
          "metadata": {},
          "execution_count": 149
        }
      ]
    },
    {
      "cell_type": "code",
      "source": [
        "#precision(適合率)\n",
        "from sklearn.metrics import precision_score\n",
        "print(precision_score(y_train,y_pred,average='binary'))"
      ],
      "metadata": {
        "id": "ZjNlJTeLvyr7",
        "colab": {
          "base_uri": "https://localhost:8080/"
        },
        "outputId": "c9b74d40-e22a-41f7-a31a-67cd2a2ba6c4"
      },
      "execution_count": null,
      "outputs": [
        {
          "output_type": "stream",
          "name": "stdout",
          "text": [
            "1.0\n"
          ]
        }
      ]
    },
    {
      "cell_type": "code",
      "source": [
        "from sklearn.metrics import precision_score\n",
        "print(precision_score(y_test,y_pred2,average='binary'))"
      ],
      "metadata": {
        "colab": {
          "base_uri": "https://localhost:8080/"
        },
        "id": "7viGlsgjapHk",
        "outputId": "74d753ab-3510-487f-9f5c-3b0d7a1b528a"
      },
      "execution_count": null,
      "outputs": [
        {
          "output_type": "stream",
          "name": "stdout",
          "text": [
            "0.8823529411764706\n"
          ]
        }
      ]
    },
    {
      "cell_type": "code",
      "source": [
        "#recall.senstive(再現率)\n",
        "from sklearn.metrics import recall_score\n",
        "print(recall_score(y_train,y_pred,average='binary'))"
      ],
      "metadata": {
        "id": "S3hqivgBxms9",
        "colab": {
          "base_uri": "https://localhost:8080/"
        },
        "outputId": "835d2c15-295b-48d6-e05f-ee0197c029bf"
      },
      "execution_count": null,
      "outputs": [
        {
          "output_type": "stream",
          "name": "stdout",
          "text": [
            "0.9922480620155039\n"
          ]
        }
      ]
    },
    {
      "cell_type": "code",
      "source": [
        "#recall.senstive(再現率)\n",
        "from sklearn.metrics import recall_score\n",
        "print(recall_score(y_test,y_pred2,average='binary'))"
      ],
      "metadata": {
        "colab": {
          "base_uri": "https://localhost:8080/"
        },
        "outputId": "031bf18a-0f62-4da4-c6aa-fa8e95b27efb",
        "id": "7_Op00z7aIUm"
      },
      "execution_count": null,
      "outputs": [
        {
          "output_type": "stream",
          "name": "stdout",
          "text": [
            "0.9375\n"
          ]
        }
      ]
    },
    {
      "cell_type": "code",
      "source": [
        "#F値\n",
        "from sklearn.metrics import f1_score\n",
        "print(f1_score(y_train,y_pred,average='binary'))"
      ],
      "metadata": {
        "id": "8WWa5XboyTk7",
        "colab": {
          "base_uri": "https://localhost:8080/"
        },
        "outputId": "e4f82fb8-000c-4832-d3b8-528d510349af"
      },
      "execution_count": null,
      "outputs": [
        {
          "output_type": "stream",
          "name": "stdout",
          "text": [
            "0.9961089494163424\n"
          ]
        }
      ]
    },
    {
      "cell_type": "code",
      "source": [
        "from sklearn.metrics import f1_score\n",
        "print(f1_score(y_test,y_pred2,average='binary'))"
      ],
      "metadata": {
        "colab": {
          "base_uri": "https://localhost:8080/"
        },
        "id": "e6d9hEl8aTG2",
        "outputId": "b4d3369e-6a11-4da0-9899-2b48670649ca"
      },
      "execution_count": null,
      "outputs": [
        {
          "output_type": "stream",
          "name": "stdout",
          "text": [
            "0.9090909090909091\n"
          ]
        }
      ]
    },
    {
      "cell_type": "code",
      "source": [
        "#分類レポート\n",
        "from sklearn.metrics import classification_report\n",
        "print(classification_report(y_train,y_pred))\n",
        "print(classification_report(y_test,y_pred2))"
      ],
      "metadata": {
        "id": "CCY9yWdcyux2",
        "colab": {
          "base_uri": "https://localhost:8080/"
        },
        "outputId": "5b99f157-dcd2-40dd-f1c3-4cb19dd02ebc"
      },
      "execution_count": null,
      "outputs": [
        {
          "output_type": "stream",
          "name": "stdout",
          "text": [
            "              precision    recall  f1-score   support\n",
            "\n",
            "           0       0.99      1.00      0.99        68\n",
            "           1       1.00      0.99      1.00       129\n",
            "\n",
            "    accuracy                           0.99       197\n",
            "   macro avg       0.99      1.00      0.99       197\n",
            "weighted avg       0.99      0.99      0.99       197\n",
            "\n",
            "              precision    recall  f1-score   support\n",
            "\n",
            "           0       0.87      0.76      0.81        17\n",
            "           1       0.88      0.94      0.91        32\n",
            "\n",
            "    accuracy                           0.88        49\n",
            "   macro avg       0.87      0.85      0.86        49\n",
            "weighted avg       0.88      0.88      0.88        49\n",
            "\n"
          ]
        }
      ]
    },
    {
      "cell_type": "code",
      "source": [
        "import joblib"
      ],
      "metadata": {
        "id": "p3dRR1YniHGA"
      },
      "execution_count": null,
      "outputs": []
    },
    {
      "cell_type": "code",
      "source": [
        "!pip install shap"
      ],
      "metadata": {
        "colab": {
          "base_uri": "https://localhost:8080/"
        },
        "id": "LqAPW3xJlmhH",
        "outputId": "ab19aac3-1cb9-4c2e-bc8a-bc1917dc570f"
      },
      "execution_count": null,
      "outputs": [
        {
          "output_type": "stream",
          "name": "stdout",
          "text": [
            "Looking in indexes: https://pypi.org/simple, https://us-python.pkg.dev/colab-wheels/public/simple/\n",
            "Requirement already satisfied: shap in /usr/local/lib/python3.8/dist-packages (0.41.0)\n",
            "Requirement already satisfied: cloudpickle in /usr/local/lib/python3.8/dist-packages (from shap) (2.2.0)\n",
            "Requirement already satisfied: packaging>20.9 in /usr/local/lib/python3.8/dist-packages (from shap) (21.3)\n",
            "Requirement already satisfied: pandas in /usr/local/lib/python3.8/dist-packages (from shap) (1.3.5)\n",
            "Requirement already satisfied: scikit-learn in /usr/local/lib/python3.8/dist-packages (from shap) (1.0.2)\n",
            "Requirement already satisfied: numba in /usr/local/lib/python3.8/dist-packages (from shap) (0.56.4)\n",
            "Requirement already satisfied: tqdm>4.25.0 in /usr/local/lib/python3.8/dist-packages (from shap) (4.64.1)\n",
            "Requirement already satisfied: scipy in /usr/local/lib/python3.8/dist-packages (from shap) (1.7.3)\n",
            "Requirement already satisfied: numpy in /usr/local/lib/python3.8/dist-packages (from shap) (1.21.6)\n",
            "Requirement already satisfied: slicer==0.0.7 in /usr/local/lib/python3.8/dist-packages (from shap) (0.0.7)\n",
            "Requirement already satisfied: pyparsing!=3.0.5,>=2.0.2 in /usr/local/lib/python3.8/dist-packages (from packaging>20.9->shap) (3.0.9)\n",
            "Requirement already satisfied: importlib-metadata in /usr/local/lib/python3.8/dist-packages (from numba->shap) (6.0.0)\n",
            "Requirement already satisfied: llvmlite<0.40,>=0.39.0dev0 in /usr/local/lib/python3.8/dist-packages (from numba->shap) (0.39.1)\n",
            "Requirement already satisfied: setuptools in /usr/local/lib/python3.8/dist-packages (from numba->shap) (57.4.0)\n",
            "Requirement already satisfied: pytz>=2017.3 in /usr/local/lib/python3.8/dist-packages (from pandas->shap) (2022.7)\n",
            "Requirement already satisfied: python-dateutil>=2.7.3 in /usr/local/lib/python3.8/dist-packages (from pandas->shap) (2.8.2)\n",
            "Requirement already satisfied: threadpoolctl>=2.0.0 in /usr/local/lib/python3.8/dist-packages (from scikit-learn->shap) (3.1.0)\n",
            "Requirement already satisfied: joblib>=0.11 in /usr/local/lib/python3.8/dist-packages (from scikit-learn->shap) (1.2.0)\n",
            "Requirement already satisfied: six>=1.5 in /usr/local/lib/python3.8/dist-packages (from python-dateutil>=2.7.3->pandas->shap) (1.15.0)\n",
            "Requirement already satisfied: zipp>=0.5 in /usr/local/lib/python3.8/dist-packages (from importlib-metadata->numba->shap) (3.11.0)\n"
          ]
        }
      ]
    },
    {
      "cell_type": "code",
      "source": [
        "import shap"
      ],
      "metadata": {
        "id": "vF0QmdTElwHB"
      },
      "execution_count": null,
      "outputs": []
    },
    {
      "cell_type": "code",
      "source": [
        "explainer = shap.TreeExplainer(model=xgboost_model,data=X_train,feature_perturbation=\"interventional\",)"
      ],
      "metadata": {
        "id": "ChPqREY8mEbM"
      },
      "execution_count": null,
      "outputs": []
    },
    {
      "cell_type": "code",
      "source": [
        "shap_values = explainer(X_train)"
      ],
      "metadata": {
        "id": "lRNF8ejnmeAF"
      },
      "execution_count": null,
      "outputs": []
    },
    {
      "cell_type": "code",
      "source": [
        "shap_values[0]"
      ],
      "metadata": {
        "id": "0Ek34xKwmm4F"
      },
      "execution_count": null,
      "outputs": []
    },
    {
      "cell_type": "code",
      "source": [
        "shap.plots.waterfall(shap_values[0])"
      ],
      "metadata": {
        "colab": {
          "base_uri": "https://localhost:8080/",
          "height": 444
        },
        "id": "k2YHddSEmtQK",
        "outputId": "20871613-fd31-4b0b-e93d-5b42b727455e"
      },
      "execution_count": null,
      "outputs": [
        {
          "output_type": "display_data",
          "data": {
            "text/plain": [
              "<Figure size 576x468 with 3 Axes>"
            ],
            "image/png": "[encoded data removed]"
          },
          "metadata": {}
        }
      ]
    },
    {
      "cell_type": "code",
      "source": [
        "shap.plots.waterfall(shap_values[1])"
      ],
      "metadata": {
        "colab": {
          "base_uri": "https://localhost:8080/",
          "height": 444
        },
        "id": "62ULKSiqnTjt",
        "outputId": "e2c0ffe9-1ced-4f25-cf37-ab59353058d4"
      },
      "execution_count": null,
      "outputs": [
        {
          "output_type": "display_data",
          "data": {
            "text/plain": [
              "<Figure size 576x468 with 3 Axes>"
            ],
            "image/png": "[encoded data removed]"
          },
          "metadata": {}
        }
      ]
    },
    {
      "cell_type": "code",
      "source": [
        "#学習データでのshap\n",
        "shap.plots.bar(shap_values=shap_values)"
      ],
      "metadata": {
        "colab": {
          "base_uri": "https://localhost:8080/",
          "height": 418
        },
        "id": "RYDBLUi0odxI",
        "outputId": "b89a49be-9e11-46a6-cc5f-0f545d693c84"
      },
      "execution_count": null,
      "outputs": [
        {
          "output_type": "display_data",
          "data": {
            "text/plain": [
              "<Figure size 576x468 with 1 Axes>"
            ],
            "image/png": "[encoded data removed]"
          },
          "metadata": {}
        }
      ]
    },
    {
      "cell_type": "code",
      "source": [
        "shap.plots.beeswarm(shap_values)"
      ],
      "metadata": {
        "colab": {
          "base_uri": "https://localhost:8080/",
          "height": 368
        },
        "id": "WJ-6ZxwKps0y",
        "outputId": "8a8993eb-76c6-4bf6-e24b-cb2c3db39218"
      },
      "execution_count": null,
      "outputs": [
        {
          "output_type": "display_data",
          "data": {
            "text/plain": [
              "<Figure size 576x396 with 2 Axes>"
            ],
            "image/png": "[encoded data removed]"
          },
          "metadata": {
            "needs_background": "light"
          }
        }
      ]
    },
    {
      "cell_type": "code",
      "source": [
        "explainer2 = shap.TreeExplainer(model=xgboost_model,data=X_test,feature_perturbation=\"interventional\",)"
      ],
      "metadata": {
        "id": "DcYGG5PdsFBZ"
      },
      "execution_count": null,
      "outputs": []
    },
    {
      "cell_type": "code",
      "source": [
        "shap_values2 = explainer2(X_test)"
      ],
      "metadata": {
        "id": "WYyUlObgspm_"
      },
      "execution_count": null,
      "outputs": []
    },
    {
      "cell_type": "code",
      "source": [
        "#テストデータでのshap\n",
        "shap.plots.bar(shap_values=shap_values2)"
      ],
      "metadata": {
        "colab": {
          "base_uri": "https://localhost:8080/",
          "height": 418
        },
        "id": "P7ObjBKAtSB-",
        "outputId": "f807eb7a-8cd4-441c-b241-880b96f3e363"
      },
      "execution_count": null,
      "outputs": [
        {
          "output_type": "display_data",
          "data": {
            "text/plain": [
              "<Figure size 576x468 with 1 Axes>"
            ],
            "image/png": "[encoded data removed]"
          },
          "metadata": {}
        }
      ]
    },
    {
      "cell_type": "code",
      "source": [
        "shap.plots.beeswarm(shap_values2)"
      ],
      "metadata": {
        "colab": {
          "base_uri": "https://localhost:8080/",
          "height": 368
        },
        "id": "xcsrjQz2W80c",
        "outputId": "cb9e45f9-98bc-4f26-d852-9f555653dfb8"
      },
      "execution_count": null,
      "outputs": [
        {
          "output_type": "display_data",
          "data": {
            "text/plain": [
              "<Figure size 576x396 with 2 Axes>"
            ],
            "image/png": "[encoded data removed]"
          },
          "metadata": {
            "needs_background": "light"
          }
        }
      ]
    },
    {
      "cell_type": "code",
      "source": [
        "shap.plots.waterfall(shap_values2[0])"
      ],
      "metadata": {
        "id": "oGUhCxMkXDYh",
        "colab": {
          "base_uri": "https://localhost:8080/",
          "height": 444
        },
        "outputId": "fe0147e6-70ca-4b3f-b381-8c177e232f05"
      },
      "execution_count": null,
      "outputs": [
        {
          "output_type": "display_data",
          "data": {
            "text/plain": [
              "<Figure size 576x468 with 3 Axes>"
            ],
            "image/png": "[encoded data removed]"
          },
          "metadata": {}
        }
      ]
    }
  ]
}